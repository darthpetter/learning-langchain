{
 "cells": [
  {
   "cell_type": "markdown",
   "id": "d9475838-b715-480e-af23-82ac6f225b43",
   "metadata": {},
   "source": [
    "# Agente coder en Python"
   ]
  },
  {
   "cell_type": "code",
   "execution_count": 5,
   "id": "8c211686-9842-4b07-b712-1dda292ac9b9",
   "metadata": {},
   "outputs": [],
   "source": [
    "from langchain_ollama import ChatOllama\n",
    "from langchain.prompts import PromptTemplate,SystemMessagePromptTemplate,ChatPromptTemplate,HumanMessagePromptTemplate\n",
    "from langchain.agents import load_tools,initialize_agent,AgentType,create_react_agent,AgentExecutor\n",
    "\n",
    "llm=ChatOllama(model='qwen3:1.7b')"
   ]
  },
  {
   "cell_type": "code",
   "execution_count": 9,
   "id": "7e57916c-96b9-4037-93c2-090ba7bffa7d",
   "metadata": {},
   "outputs": [],
   "source": [
    "from langchain_experimental.agents.agent_toolkits import create_python_agent\n",
    "from langchain_experimental.tools.python.tool import PythonREPLTool"
   ]
  },
  {
   "cell_type": "markdown",
   "id": "ba510dbb-0bbd-4215-864b-843fac353390",
   "metadata": {},
   "source": [
    "## Ordenar lista con agente-coder Python"
   ]
  },
  {
   "cell_type": "code",
   "execution_count": 11,
   "id": "aa058415-928c-4929-b2ce-e966e4ac5033",
   "metadata": {},
   "outputs": [],
   "source": [
    "agent=create_python_agent(\n",
    "    tool=PythonREPLTool(),\n",
    "    llm=llm,\n",
    "    agent=AgentType.ZERO_SHOT_REACT_DESCRIPTION\n",
    ")"
   ]
  },
  {
   "cell_type": "code",
   "execution_count": 12,
   "id": "b21ddcfe-9922-4e3a-acff-40e16719e0eb",
   "metadata": {},
   "outputs": [],
   "source": [
    "lista_ejemplo=[4,6,12,3,6,23,7,2,56,67,3,123,2,4,3,12,23,2]"
   ]
  },
  {
   "cell_type": "code",
   "execution_count": 13,
   "id": "0e15ecea-a5c3-4c62-bedd-05137677ffff",
   "metadata": {},
   "outputs": [
    {
     "name": "stderr",
     "output_type": "stream",
     "text": [
      "Python REPL can execute arbitrary code. Use with caution.\n"
     ]
    },
    {
     "data": {
      "text/plain": [
       "{'input': 'Ordena la lista y elimina elementos duplicados [4, 6, 12, 3, 6, 23, 7, 2, 56, 67, 3, 123, 2, 4, 3, 12, 23, 2]',\n",
       " 'output': '[2, 3, 4, 6, 7, 12, 23, 56, 67, 123]'}"
      ]
     },
     "execution_count": 13,
     "metadata": {},
     "output_type": "execute_result"
    }
   ],
   "source": [
    "agent.invoke(f'''Ordena la lista y elimina elementos duplicados {lista_ejemplo}''')"
   ]
  },
  {
   "cell_type": "markdown",
   "id": "f0acec4a-62b4-4207-9309-d1d7392fd83b",
   "metadata": {},
   "source": [
    "## Usando dataframe"
   ]
  },
  {
   "cell_type": "code",
   "execution_count": 16,
   "id": "352f5394-c03b-42de-b039-3b28f3f6c366",
   "metadata": {},
   "outputs": [],
   "source": [
    "import pandas as pd"
   ]
  },
  {
   "cell_type": "code",
   "execution_count": 23,
   "id": "db091c0f-3d4d-43ee-8aee-23a26692002c",
   "metadata": {},
   "outputs": [
    {
     "name": "stderr",
     "output_type": "stream",
     "text": [
      "C:\\Users\\PC\\AppData\\Local\\Temp\\ipykernel_28088\\1243944376.py:1: ParserWarning: Falling back to the 'python' engine because the 'c' engine does not support regex separators (separators > 1 char and different from '\\s+' are interpreted as regex); you can avoid this warning by specifying engine='python'.\n",
      "  df=pd.read_csv(\"../2 loaders/data_sources/survey-bussiness-2023.csv\",sep='comma')\n"
     ]
    },
    {
     "ename": "UnicodeDecodeError",
     "evalue": "'utf-8' codec can't decode byte 0x96 in position 100: invalid start byte",
     "output_type": "error",
     "traceback": [
      "\u001b[31m---------------------------------------------------------------------------\u001b[39m",
      "\u001b[31mUnicodeDecodeError\u001b[39m                        Traceback (most recent call last)",
      "\u001b[36mCell\u001b[39m\u001b[36m \u001b[39m\u001b[32mIn[23]\u001b[39m\u001b[32m, line 1\u001b[39m\n\u001b[32m----> \u001b[39m\u001b[32m1\u001b[39m df=pd.read_csv(\u001b[33m\"\u001b[39m\u001b[33m../2 loaders/data_sources/survey-bussiness-2023.csv\u001b[39m\u001b[33m\"\u001b[39m,sep=\u001b[33m'\u001b[39m\u001b[33mcomma\u001b[39m\u001b[33m'\u001b[39m)\n",
      "\u001b[36mFile \u001b[39m\u001b[32m~\\anaconda3\\envs\\langchain\\Lib\\site-packages\\pandas\\io\\parsers\\readers.py:1026\u001b[39m, in \u001b[36mread_csv\u001b[39m\u001b[34m(filepath_or_buffer, sep, delimiter, header, names, index_col, usecols, dtype, engine, converters, true_values, false_values, skipinitialspace, skiprows, skipfooter, nrows, na_values, keep_default_na, na_filter, verbose, skip_blank_lines, parse_dates, infer_datetime_format, keep_date_col, date_parser, date_format, dayfirst, cache_dates, iterator, chunksize, compression, thousands, decimal, lineterminator, quotechar, quoting, doublequote, escapechar, comment, encoding, encoding_errors, dialect, on_bad_lines, delim_whitespace, low_memory, memory_map, float_precision, storage_options, dtype_backend)\u001b[39m\n\u001b[32m   1013\u001b[39m kwds_defaults = _refine_defaults_read(\n\u001b[32m   1014\u001b[39m     dialect,\n\u001b[32m   1015\u001b[39m     delimiter,\n\u001b[32m   (...)\u001b[39m\u001b[32m   1022\u001b[39m     dtype_backend=dtype_backend,\n\u001b[32m   1023\u001b[39m )\n\u001b[32m   1024\u001b[39m kwds.update(kwds_defaults)\n\u001b[32m-> \u001b[39m\u001b[32m1026\u001b[39m \u001b[38;5;28;01mreturn\u001b[39;00m _read(filepath_or_buffer, kwds)\n",
      "\u001b[36mFile \u001b[39m\u001b[32m~\\anaconda3\\envs\\langchain\\Lib\\site-packages\\pandas\\io\\parsers\\readers.py:620\u001b[39m, in \u001b[36m_read\u001b[39m\u001b[34m(filepath_or_buffer, kwds)\u001b[39m\n\u001b[32m    617\u001b[39m _validate_names(kwds.get(\u001b[33m\"\u001b[39m\u001b[33mnames\u001b[39m\u001b[33m\"\u001b[39m, \u001b[38;5;28;01mNone\u001b[39;00m))\n\u001b[32m    619\u001b[39m \u001b[38;5;66;03m# Create the parser.\u001b[39;00m\n\u001b[32m--> \u001b[39m\u001b[32m620\u001b[39m parser = TextFileReader(filepath_or_buffer, **kwds)\n\u001b[32m    622\u001b[39m \u001b[38;5;28;01mif\u001b[39;00m chunksize \u001b[38;5;129;01mor\u001b[39;00m iterator:\n\u001b[32m    623\u001b[39m     \u001b[38;5;28;01mreturn\u001b[39;00m parser\n",
      "\u001b[36mFile \u001b[39m\u001b[32m~\\anaconda3\\envs\\langchain\\Lib\\site-packages\\pandas\\io\\parsers\\readers.py:1620\u001b[39m, in \u001b[36mTextFileReader.__init__\u001b[39m\u001b[34m(self, f, engine, **kwds)\u001b[39m\n\u001b[32m   1617\u001b[39m     \u001b[38;5;28mself\u001b[39m.options[\u001b[33m\"\u001b[39m\u001b[33mhas_index_names\u001b[39m\u001b[33m\"\u001b[39m] = kwds[\u001b[33m\"\u001b[39m\u001b[33mhas_index_names\u001b[39m\u001b[33m\"\u001b[39m]\n\u001b[32m   1619\u001b[39m \u001b[38;5;28mself\u001b[39m.handles: IOHandles | \u001b[38;5;28;01mNone\u001b[39;00m = \u001b[38;5;28;01mNone\u001b[39;00m\n\u001b[32m-> \u001b[39m\u001b[32m1620\u001b[39m \u001b[38;5;28mself\u001b[39m._engine = \u001b[38;5;28mself\u001b[39m._make_engine(f, \u001b[38;5;28mself\u001b[39m.engine)\n",
      "\u001b[36mFile \u001b[39m\u001b[32m~\\anaconda3\\envs\\langchain\\Lib\\site-packages\\pandas\\io\\parsers\\readers.py:1898\u001b[39m, in \u001b[36mTextFileReader._make_engine\u001b[39m\u001b[34m(self, f, engine)\u001b[39m\n\u001b[32m   1895\u001b[39m     \u001b[38;5;28;01mraise\u001b[39;00m \u001b[38;5;167;01mValueError\u001b[39;00m(msg)\n\u001b[32m   1897\u001b[39m \u001b[38;5;28;01mtry\u001b[39;00m:\n\u001b[32m-> \u001b[39m\u001b[32m1898\u001b[39m     \u001b[38;5;28;01mreturn\u001b[39;00m mapping[engine](f, **\u001b[38;5;28mself\u001b[39m.options)\n\u001b[32m   1899\u001b[39m \u001b[38;5;28;01mexcept\u001b[39;00m \u001b[38;5;167;01mException\u001b[39;00m:\n\u001b[32m   1900\u001b[39m     \u001b[38;5;28;01mif\u001b[39;00m \u001b[38;5;28mself\u001b[39m.handles \u001b[38;5;129;01mis\u001b[39;00m \u001b[38;5;129;01mnot\u001b[39;00m \u001b[38;5;28;01mNone\u001b[39;00m:\n",
      "\u001b[36mFile \u001b[39m\u001b[32m~\\anaconda3\\envs\\langchain\\Lib\\site-packages\\pandas\\io\\parsers\\python_parser.py:133\u001b[39m, in \u001b[36mPythonParser.__init__\u001b[39m\u001b[34m(self, f, **kwds)\u001b[39m\n\u001b[32m    127\u001b[39m \u001b[38;5;28mself\u001b[39m._col_indices: \u001b[38;5;28mlist\u001b[39m[\u001b[38;5;28mint\u001b[39m] | \u001b[38;5;28;01mNone\u001b[39;00m = \u001b[38;5;28;01mNone\u001b[39;00m\n\u001b[32m    128\u001b[39m columns: \u001b[38;5;28mlist\u001b[39m[\u001b[38;5;28mlist\u001b[39m[Scalar | \u001b[38;5;28;01mNone\u001b[39;00m]]\n\u001b[32m    129\u001b[39m (\n\u001b[32m    130\u001b[39m     columns,\n\u001b[32m    131\u001b[39m     \u001b[38;5;28mself\u001b[39m.num_original_columns,\n\u001b[32m    132\u001b[39m     \u001b[38;5;28mself\u001b[39m.unnamed_cols,\n\u001b[32m--> \u001b[39m\u001b[32m133\u001b[39m ) = \u001b[38;5;28mself\u001b[39m._infer_columns()\n\u001b[32m    135\u001b[39m \u001b[38;5;66;03m# Now self.columns has the set of columns that we will process.\u001b[39;00m\n\u001b[32m    136\u001b[39m \u001b[38;5;66;03m# The original set is stored in self.original_columns.\u001b[39;00m\n\u001b[32m    137\u001b[39m \u001b[38;5;66;03m# error: Cannot determine type of 'index_names'\u001b[39;00m\n\u001b[32m    138\u001b[39m (\n\u001b[32m    139\u001b[39m     \u001b[38;5;28mself\u001b[39m.columns,\n\u001b[32m    140\u001b[39m     \u001b[38;5;28mself\u001b[39m.index_names,\n\u001b[32m   (...)\u001b[39m\u001b[32m    145\u001b[39m     \u001b[38;5;28mself\u001b[39m.index_names,  \u001b[38;5;66;03m# type: ignore[has-type]\u001b[39;00m\n\u001b[32m    146\u001b[39m )\n",
      "\u001b[36mFile \u001b[39m\u001b[32m~\\anaconda3\\envs\\langchain\\Lib\\site-packages\\pandas\\io\\parsers\\python_parser.py:404\u001b[39m, in \u001b[36mPythonParser._infer_columns\u001b[39m\u001b[34m(self)\u001b[39m\n\u001b[32m    402\u001b[39m \u001b[38;5;28;01mfor\u001b[39;00m level, hr \u001b[38;5;129;01min\u001b[39;00m \u001b[38;5;28menumerate\u001b[39m(header):\n\u001b[32m    403\u001b[39m     \u001b[38;5;28;01mtry\u001b[39;00m:\n\u001b[32m--> \u001b[39m\u001b[32m404\u001b[39m         line = \u001b[38;5;28mself\u001b[39m._buffered_line()\n\u001b[32m    406\u001b[39m         \u001b[38;5;28;01mwhile\u001b[39;00m \u001b[38;5;28mself\u001b[39m.line_pos <= hr:\n\u001b[32m    407\u001b[39m             line = \u001b[38;5;28mself\u001b[39m._next_line()\n",
      "\u001b[36mFile \u001b[39m\u001b[32m~\\anaconda3\\envs\\langchain\\Lib\\site-packages\\pandas\\io\\parsers\\python_parser.py:637\u001b[39m, in \u001b[36mPythonParser._buffered_line\u001b[39m\u001b[34m(self)\u001b[39m\n\u001b[32m    635\u001b[39m     \u001b[38;5;28;01mreturn\u001b[39;00m \u001b[38;5;28mself\u001b[39m.buf[\u001b[32m0\u001b[39m]\n\u001b[32m    636\u001b[39m \u001b[38;5;28;01melse\u001b[39;00m:\n\u001b[32m--> \u001b[39m\u001b[32m637\u001b[39m     \u001b[38;5;28;01mreturn\u001b[39;00m \u001b[38;5;28mself\u001b[39m._next_line()\n",
      "\u001b[36mFile \u001b[39m\u001b[32m~\\anaconda3\\envs\\langchain\\Lib\\site-packages\\pandas\\io\\parsers\\python_parser.py:738\u001b[39m, in \u001b[36mPythonParser._next_line\u001b[39m\u001b[34m(self)\u001b[39m\n\u001b[32m    735\u001b[39m     \u001b[38;5;28mnext\u001b[39m(\u001b[38;5;28mself\u001b[39m.data)\n\u001b[32m    737\u001b[39m \u001b[38;5;28;01mwhile\u001b[39;00m \u001b[38;5;28;01mTrue\u001b[39;00m:\n\u001b[32m--> \u001b[39m\u001b[32m738\u001b[39m     orig_line = \u001b[38;5;28mself\u001b[39m._next_iter_line(row_num=\u001b[38;5;28mself\u001b[39m.pos + \u001b[32m1\u001b[39m)\n\u001b[32m    739\u001b[39m     \u001b[38;5;28mself\u001b[39m.pos += \u001b[32m1\u001b[39m\n\u001b[32m    741\u001b[39m     \u001b[38;5;28;01mif\u001b[39;00m orig_line \u001b[38;5;129;01mis\u001b[39;00m \u001b[38;5;129;01mnot\u001b[39;00m \u001b[38;5;28;01mNone\u001b[39;00m:\n",
      "\u001b[36mFile \u001b[39m\u001b[32m~\\anaconda3\\envs\\langchain\\Lib\\site-packages\\pandas\\io\\parsers\\python_parser.py:805\u001b[39m, in \u001b[36mPythonParser._next_iter_line\u001b[39m\u001b[34m(self, row_num)\u001b[39m\n\u001b[32m    802\u001b[39m \u001b[38;5;28;01mtry\u001b[39;00m:\n\u001b[32m    803\u001b[39m     \u001b[38;5;66;03m# assert for mypy, data is Iterator[str] or None, would error in next\u001b[39;00m\n\u001b[32m    804\u001b[39m     \u001b[38;5;28;01massert\u001b[39;00m \u001b[38;5;28mself\u001b[39m.data \u001b[38;5;129;01mis\u001b[39;00m \u001b[38;5;129;01mnot\u001b[39;00m \u001b[38;5;28;01mNone\u001b[39;00m\n\u001b[32m--> \u001b[39m\u001b[32m805\u001b[39m     line = \u001b[38;5;28mnext\u001b[39m(\u001b[38;5;28mself\u001b[39m.data)\n\u001b[32m    806\u001b[39m     \u001b[38;5;66;03m# for mypy\u001b[39;00m\n\u001b[32m    807\u001b[39m     \u001b[38;5;28;01massert\u001b[39;00m \u001b[38;5;28misinstance\u001b[39m(line, \u001b[38;5;28mlist\u001b[39m)\n",
      "\u001b[36mFile \u001b[39m\u001b[32m~\\anaconda3\\envs\\langchain\\Lib\\site-packages\\pandas\\io\\parsers\\python_parser.py:234\u001b[39m, in \u001b[36mPythonParser._make_reader.<locals>._read\u001b[39m\u001b[34m()\u001b[39m\n\u001b[32m    233\u001b[39m \u001b[38;5;28;01mdef\u001b[39;00m\u001b[38;5;250m \u001b[39m\u001b[34m_read\u001b[39m():\n\u001b[32m--> \u001b[39m\u001b[32m234\u001b[39m     line = f.readline()\n\u001b[32m    235\u001b[39m     pat = re.compile(sep)\n\u001b[32m    237\u001b[39m     \u001b[38;5;28;01myield\u001b[39;00m pat.split(line.strip())\n",
      "\u001b[36mFile \u001b[39m\u001b[32m~\\anaconda3\\envs\\langchain\\Lib\\codecs.py:322\u001b[39m, in \u001b[36mBufferedIncrementalDecoder.decode\u001b[39m\u001b[34m(self, input, final)\u001b[39m\n\u001b[32m    319\u001b[39m \u001b[38;5;28;01mdef\u001b[39;00m\u001b[38;5;250m \u001b[39m\u001b[34mdecode\u001b[39m(\u001b[38;5;28mself\u001b[39m, \u001b[38;5;28minput\u001b[39m, final=\u001b[38;5;28;01mFalse\u001b[39;00m):\n\u001b[32m    320\u001b[39m     \u001b[38;5;66;03m# decode input (taking the buffer into account)\u001b[39;00m\n\u001b[32m    321\u001b[39m     data = \u001b[38;5;28mself\u001b[39m.buffer + \u001b[38;5;28minput\u001b[39m\n\u001b[32m--> \u001b[39m\u001b[32m322\u001b[39m     (result, consumed) = \u001b[38;5;28mself\u001b[39m._buffer_decode(data, \u001b[38;5;28mself\u001b[39m.errors, final)\n\u001b[32m    323\u001b[39m     \u001b[38;5;66;03m# keep undecoded input until the next call\u001b[39;00m\n\u001b[32m    324\u001b[39m     \u001b[38;5;28mself\u001b[39m.buffer = data[consumed:]\n",
      "\u001b[31mUnicodeDecodeError\u001b[39m: 'utf-8' codec can't decode byte 0x96 in position 100: invalid start byte"
     ]
    }
   ],
   "source": [
    "df=pd.read_csv(\"../2 loaders/data_sources/survey-bussiness-2023.csv\",sep='comma')"
   ]
  },
  {
   "cell_type": "code",
   "execution_count": null,
   "id": "cb133d1d-b052-41cd-ba47-9f3a0ccf60fe",
   "metadata": {},
   "outputs": [],
   "source": []
  }
 ],
 "metadata": {
  "kernelspec": {
   "display_name": "Python 3 (ipykernel)",
   "language": "python",
   "name": "python3"
  },
  "language_info": {
   "codemirror_mode": {
    "name": "ipython",
    "version": 3
   },
   "file_extension": ".py",
   "mimetype": "text/x-python",
   "name": "python",
   "nbconvert_exporter": "python",
   "pygments_lexer": "ipython3",
   "version": "3.11.11"
  }
 },
 "nbformat": 4,
 "nbformat_minor": 5
}
