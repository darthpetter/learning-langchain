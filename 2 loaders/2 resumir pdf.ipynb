{
 "cells": [
  {
   "cell_type": "code",
   "execution_count": 4,
   "id": "4f5ce66f-a2df-4972-a966-51a5d93714c2",
   "metadata": {},
   "outputs": [],
   "source": [
    "from langchain.document_loaders import PyPDFLoader"
   ]
  },
  {
   "cell_type": "code",
   "execution_count": 5,
   "id": "c211bd3d-e2d7-4a75-8c36-39eda3b0f9f4",
   "metadata": {},
   "outputs": [],
   "source": [
    "loader=PyPDFLoader('data_sources/procesamiento_lenguaje_natural.pdf')"
   ]
  },
  {
   "cell_type": "code",
   "execution_count": 6,
   "id": "1f0787bc-cb57-42d5-a723-44d2f0fbeb67",
   "metadata": {},
   "outputs": [],
   "source": [
    "pages=loader.load()"
   ]
  },
  {
   "cell_type": "code",
   "execution_count": 16,
   "id": "1020008a-7412-4cbb-9906-e702ef036187",
   "metadata": {},
   "outputs": [],
   "source": [
    "contenido_pdf=pages[34].page_content"
   ]
  },
  {
   "cell_type": "code",
   "execution_count": 17,
   "id": "856c32cc-f7dc-43a3-a9e9-f58e3842b0c7",
   "metadata": {},
   "outputs": [
    {
     "data": {
      "text/plain": [
       "'Procesamiento del Lenguaje Natural \\nTema 2. Ideas clave \\n35 \\n© Universidad Internacional de La Rioja (UNIR) \\nLas reglas ortográficas describen los cambios de ortografía que ocurren \\ncuando se combinan dos morfemas para crear una palabra.  \\n \\nEn el siguiente apartado se describe, tal y como indicábamos al inicio de este tema, \\ncómo representar una versión simple de un lexicón, que sirve para el reconocimiento \\nmorfológico, y que incluye el conocimiento morfotáctico modelándolo como u na \\nmáquina de estados finitos. Seguidamente, se presentan los transductores de \\nautómatas finitos como una forma de modelar las características morfológicas en el \\nlexicón y de abordar el análisis morfológico como la traducción de una cadena de \\ncaracteres a una cadena de morfemas. Finalmente, se muestra cómo usar los \\ntransductores de autómatas finitos para modelar las reglas ortográficas necesarias \\nen al análisis morfológico si se dan cambios de ortografía a la hora de combinar varios \\nmorfemas para crear una palabra. Entonces, estos transductores que modelan las \\nreglas ortográficas se combinan con el transductor que recoge la información léxica \\npara poder realizar el análisis morfológico. \\n \\n Accede a los ejercicios de autoevaluación a través del aula virtual \\n \\n \\n2.4. Uso de autómatas finitos para el \\nreconocimiento morfológico \\n \\n \\nAccede al vídeo « Tecnologías para el análisis morfológico » a través del \\naula virtual \\n \\nUn lexicón que sirva para el análisis morfológico debe contener una lista de \\nmorfemas, además del conocimiento morfotáctico, para combinar o concatenar \\ndichos morfemas. La forma más común de modelar los hechos morfotácticos en una \\nversión simple de un lexicón  es utilizando autómatas finitos, también llamados \\nmáquinas de estados finitos.'"
      ]
     },
     "execution_count": 17,
     "metadata": {},
     "output_type": "execute_result"
    }
   ],
   "source": [
    "contenido_pdf"
   ]
  },
  {
   "cell_type": "code",
   "execution_count": 26,
   "id": "6079ab50-7e69-4fe5-90b7-167cdc4452fa",
   "metadata": {},
   "outputs": [],
   "source": [
    "from langchain.prompts import HumanMessagePromptTemplate,ChatPromptTemplate\n",
    "human_template=\"Necesito que hagas un resumen del siguiente texto: \\n {contenido}\"\n",
    "human_prompt=HumanMessagePromptTemplate.from_template(human_template)"
   ]
  },
  {
   "cell_type": "code",
   "execution_count": 28,
   "id": "37071b3c-65a1-4b74-9e5e-3e543ecaca2d",
   "metadata": {},
   "outputs": [
    {
     "data": {
      "text/plain": [
       "ChatPromptValue(messages=[HumanMessage(content='Necesito que hagas un resumen del siguiente texto: \\n Procesamiento del Lenguaje Natural \\nTema 2. Ideas clave \\n35 \\n© Universidad Internacional de La Rioja (UNIR) \\nLas reglas ortográficas describen los cambios de ortografía que ocurren \\ncuando se combinan dos morfemas para crear una palabra.  \\n \\nEn el siguiente apartado se describe, tal y como indicábamos al inicio de este tema, \\ncómo representar una versión simple de un lexicón, que sirve para el reconocimiento \\nmorfológico, y que incluye el conocimiento morfotáctico modelándolo como u na \\nmáquina de estados finitos. Seguidamente, se presentan los transductores de \\nautómatas finitos como una forma de modelar las características morfológicas en el \\nlexicón y de abordar el análisis morfológico como la traducción de una cadena de \\ncaracteres a una cadena de morfemas. Finalmente, se muestra cómo usar los \\ntransductores de autómatas finitos para modelar las reglas ortográficas necesarias \\nen al análisis morfológico si se dan cambios de ortografía a la hora de combinar varios \\nmorfemas para crear una palabra. Entonces, estos transductores que modelan las \\nreglas ortográficas se combinan con el transductor que recoge la información léxica \\npara poder realizar el análisis morfológico. \\n \\n Accede a los ejercicios de autoevaluación a través del aula virtual \\n \\n \\n2.4. Uso de autómatas finitos para el \\nreconocimiento morfológico \\n \\n \\nAccede al vídeo « Tecnologías para el análisis morfológico » a través del \\naula virtual \\n \\nUn lexicón que sirva para el análisis morfológico debe contener una lista de \\nmorfemas, además del conocimiento morfotáctico, para combinar o concatenar \\ndichos morfemas. La forma más común de modelar los hechos morfotácticos en una \\nversión simple de un lexicón  es utilizando autómatas finitos, también llamados \\nmáquinas de estados finitos.', additional_kwargs={}, response_metadata={})])"
      ]
     },
     "execution_count": 28,
     "metadata": {},
     "output_type": "execute_result"
    }
   ],
   "source": [
    "chat_prompt=ChatPromptTemplate.from_messages([human_prompt])\n",
    "\n",
    "chat_prompt.format_prompt(\n",
    "    contenido=contenido_pdf\n",
    ")"
   ]
  },
  {
   "cell_type": "code",
   "execution_count": 29,
   "id": "f7614ddc-078f-4891-aa7c-e7253b0f14c8",
   "metadata": {},
   "outputs": [],
   "source": [
    "solicitud_completa=chat_prompt.format_prompt(\n",
    "    contenido=contenido_pdf\n",
    ").to_messages()"
   ]
  },
  {
   "cell_type": "code",
   "execution_count": 32,
   "id": "bad39b5b-fb7c-42f5-9b16-56b34e3b1f6d",
   "metadata": {},
   "outputs": [],
   "source": [
    "from langchain_openai import ChatOpenAI\n",
    "f=open('../openai_api_key.txt')\n",
    "api_key=f.read()\n",
    "chat=ChatOpenAI(openai_api_key=api_key)"
   ]
  },
  {
   "cell_type": "code",
   "execution_count": 33,
   "id": "ce57472a-9bcd-49c1-8b32-c541d829222d",
   "metadata": {},
   "outputs": [],
   "source": [
    "result=chat.invoke(solicitud_completa)"
   ]
  },
  {
   "cell_type": "code",
   "execution_count": 34,
   "id": "e721264e-d147-4107-a934-6a037c17d36f",
   "metadata": {},
   "outputs": [
    {
     "data": {
      "text/plain": [
       "'El texto describe cómo representar un lexicón para el reconocimiento morfológico utilizando autómatas finitos. Estos transductores de autómatas finitos son utilizados para modelar reglas ortográficas y abordar el análisis morfológico, traduciendo cadenas de caracteres a cadenas de morfemas. Se explica la importancia de combinar estos transductores con la información léxica para realizar un análisis morfológico completo. Además, se menciona que un lexicón para análisis morfológico debe contener una lista de morfemas y conocimiento morfotáctico.'"
      ]
     },
     "execution_count": 34,
     "metadata": {},
     "output_type": "execute_result"
    }
   ],
   "source": [
    "result.content"
   ]
  }
 ],
 "metadata": {
  "kernelspec": {
   "display_name": "Python 3 (ipykernel)",
   "language": "python",
   "name": "python3"
  },
  "language_info": {
   "codemirror_mode": {
    "name": "ipython",
    "version": 3
   },
   "file_extension": ".py",
   "mimetype": "text/x-python",
   "name": "python",
   "nbconvert_exporter": "python",
   "pygments_lexer": "ipython3",
   "version": "3.11.11"
  }
 },
 "nbformat": 4,
 "nbformat_minor": 5
}
