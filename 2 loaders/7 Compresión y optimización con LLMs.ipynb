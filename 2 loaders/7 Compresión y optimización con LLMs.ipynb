{
 "cells": [
  {
   "cell_type": "code",
   "execution_count": 1,
   "id": "0f7e31e5-601b-4595-adbd-5eca088bdcb1",
   "metadata": {},
   "outputs": [
    {
     "name": "stderr",
     "output_type": "stream",
     "text": [
      "C:\\Users\\PC\\anaconda3\\envs\\langchain\\Lib\\site-packages\\requests\\__init__.py:86: RequestsDependencyWarning: Unable to find acceptable character detection dependency (chardet or charset_normalizer).\n",
      "  warnings.warn(\n"
     ]
    }
   ],
   "source": [
    "from langchain.document_loaders import WikipediaLoader,TextLoader\n",
    "from langchain_openai import OpenAIEmbeddings\n",
    "from langchain.text_splitter import CharacterTextSplitter\n",
    "from langchain_community.vectorstores import SKLearnVectorStore"
   ]
  },
  {
   "cell_type": "markdown",
   "id": "83793b43-c0d2-4f2d-a749-ab804298e328",
   "metadata": {},
   "source": [
    "# Cargar documentos"
   ]
  },
  {
   "cell_type": "code",
   "execution_count": 2,
   "id": "3c1e7b19-2193-45f1-9622-24e3d219c501",
   "metadata": {},
   "outputs": [
    {
     "name": "stderr",
     "output_type": "stream",
     "text": [
      "C:\\Users\\PC\\anaconda3\\envs\\langchain\\Lib\\site-packages\\wikipedia\\wikipedia.py:389: GuessedAtParserWarning: No parser was explicitly specified, so I'm using the best available HTML parser for this system (\"lxml\"). This usually isn't a problem, but if you run this code on another system, or in a different virtual environment, it may use a different parser and behave differently.\n",
      "\n",
      "The code that caused this warning is on line 389 of the file C:\\Users\\PC\\anaconda3\\envs\\langchain\\Lib\\site-packages\\wikipedia\\wikipedia.py. To get rid of this warning, pass the additional argument 'features=\"lxml\"' to the BeautifulSoup constructor.\n",
      "\n",
      "  lis = BeautifulSoup(html).find_all('li')\n"
     ]
    }
   ],
   "source": [
    "loader=WikipediaLoader(query='Daule',lang=\"es\")\n",
    "documents=loader.load()"
   ]
  },
  {
   "cell_type": "code",
   "execution_count": 3,
   "id": "4ac1940f-13ce-40dd-874c-a905c0a0bcd6",
   "metadata": {},
   "outputs": [
    {
     "data": {
      "text/plain": [
       "24"
      ]
     },
     "execution_count": 3,
     "metadata": {},
     "output_type": "execute_result"
    }
   ],
   "source": [
    "len(documents)"
   ]
  },
  {
   "cell_type": "markdown",
   "id": "b1e393c2-73ee-4d8a-bee2-c23bd54e4e52",
   "metadata": {},
   "source": [
    "# Split"
   ]
  },
  {
   "cell_type": "code",
   "execution_count": 4,
   "id": "71b76c7a-b795-4c1c-a6eb-c4b22171cd9a",
   "metadata": {},
   "outputs": [
    {
     "name": "stderr",
     "output_type": "stream",
     "text": [
      "Created a chunk of size 530, which is longer than the specified 500\n",
      "Created a chunk of size 523, which is longer than the specified 500\n",
      "Created a chunk of size 554, which is longer than the specified 500\n",
      "Created a chunk of size 746, which is longer than the specified 500\n",
      "Created a chunk of size 1051, which is longer than the specified 500\n",
      "Created a chunk of size 838, which is longer than the specified 500\n"
     ]
    }
   ],
   "source": [
    "text_splitter=CharacterTextSplitter.from_tiktoken_encoder(chunk_size=500)\n",
    "docs=text_splitter.split_documents(documents)"
   ]
  },
  {
   "cell_type": "code",
   "execution_count": 5,
   "id": "3bb353fc-5dc9-45e0-b889-39bca932c90b",
   "metadata": {},
   "outputs": [
    {
     "data": {
      "text/plain": [
       "56"
      ]
     },
     "execution_count": 5,
     "metadata": {},
     "output_type": "execute_result"
    }
   ],
   "source": [
    "len(docs)"
   ]
  },
  {
   "cell_type": "markdown",
   "id": "9f54923e-460a-49a7-914a-9d6e20a05e40",
   "metadata": {},
   "source": [
    "# Conectar con embeddings de OpenAI"
   ]
  },
  {
   "cell_type": "code",
   "execution_count": 6,
   "id": "8384914a-8321-43c2-bfe2-5873b08089b3",
   "metadata": {},
   "outputs": [],
   "source": [
    "f=open('../openai_api_key.txt')\n",
    "api_key=f.read()\n",
    "\n",
    "funcion_embedding=OpenAIEmbeddings(openai_api_key=api_key)"
   ]
  },
  {
   "cell_type": "markdown",
   "id": "5221c737-b150-452c-aa9a-279bd5912e45",
   "metadata": {},
   "source": [
    "# Incrustar documentos en BD Vectores"
   ]
  },
  {
   "cell_type": "code",
   "execution_count": 7,
   "id": "cb0feaf6-7e3e-4a48-89c0-aac01ae4084b",
   "metadata": {},
   "outputs": [],
   "source": [
    "persist_path='../persistence/ejemplo_wiki_bd'\n",
    "\n",
    "vector_store=SKLearnVectorStore.from_documents(\n",
    "    documents=docs,\n",
    "    embedding=funcion_embedding,\n",
    "    persist_path=persist_path,\n",
    "    serializer=\"parquet\"\n",
    ")"
   ]
  },
  {
   "cell_type": "code",
   "execution_count": 8,
   "id": "2378e46c-6477-4ad1-9087-1dd5f084ba70",
   "metadata": {},
   "outputs": [],
   "source": [
    "vector_store.persist()"
   ]
  },
  {
   "cell_type": "markdown",
   "id": "76bcb477-dee8-4835-a7d0-4557d4bd05a8",
   "metadata": {},
   "source": [
    "# 5a Consulta Normal"
   ]
  },
  {
   "cell_type": "code",
   "execution_count": 11,
   "id": "2d6c81ba-7000-491c-a718-ac47197813d3",
   "metadata": {},
   "outputs": [
    {
     "name": "stdout",
     "output_type": "stream",
     "text": [
      "Daule, también conocida como Santa Clara de Daule, es una ciudad ecuatoriana; cabecera del cantón homónimo y la tercera urbe más grande y poblada de la provincia de Guayas. Se localiza al centro-sur de la región litoral ecuatoriana, en una extensa llanura, en la orilla izquierda del río Daule, a una altitud de 7 m s. n. m. y con un clima tropical de sabana de 24,4 °C en promedio.\n",
      "Es denominada como la \"capital arrocera del Ecuador\" por su importante producción de arroz. En el censo de 2022 tenía una población de 161.498 habitantes lo que la convierte en la décima tercera ciudad más poblada del país. Forma parte de la área metropolitana de Guayaquil, pues su actividad económica, social y comercial está fuertemente ligada a Guayaquil, siendo una ciudad dormitorio para miles de personas que se trasladan a Guayaquil por vía terrestre diariamente. El conglomerado alberga a 3.618.450 habitantes, y ocupa la primera posición entre las conurbaciones del Ecuador.\n",
      "Sus orígenes datan del siglo XVI, pero es a inicios del siglo XX, debido a la producción arrocera, junto con su privilegiada su ubicación geográfica muy cercana al puerto principal del país, cuando presenta un acelerado crecimiento demográfico, que sería posteriormente, uno de los principales núcleos urbanos de la provincia. Es uno de los más importantes centros económicos, financieros y comerciales del Guayas. Las actividades principales de la ciudad son la producción agropecuaria (principalmente de arroz) y el comercio.\n"
     ]
    }
   ],
   "source": [
    "consulta=\"¿Por qué se conoce a Daule como 'Capital arrocera del Ecuador'?\"\n",
    "docs=vector_store.similarity_search(consulta)\n",
    "print(docs[0].page_content)"
   ]
  },
  {
   "cell_type": "markdown",
   "id": "3db9dbe0-b4a7-414f-b72d-82dd69839c8e",
   "metadata": {},
   "source": [
    "# 5b Consulta con comprensión contextual usando LLMs"
   ]
  },
  {
   "cell_type": "code",
   "execution_count": 12,
   "id": "32986799-25d6-4dd2-ac83-b788ba4c2c4b",
   "metadata": {},
   "outputs": [],
   "source": [
    "from langchain_openai import ChatOpenAI\n",
    "from langchain.retrievers import ContextualCompressionRetriever\n",
    "from langchain.retrievers.document_compressors import LLMChainExtractor"
   ]
  },
  {
   "cell_type": "code",
   "execution_count": 13,
   "id": "ec649d54-e51b-4c16-b046-eceb71fd4268",
   "metadata": {},
   "outputs": [],
   "source": [
    "llm=ChatOpenAI(\n",
    "    temperature=0,\n",
    "    openai_api_key=api_key\n",
    ")\n",
    "compressor=LLMChainExtractor.from_llm(llm)"
   ]
  },
  {
   "cell_type": "code",
   "execution_count": 14,
   "id": "e711b646-6ad6-45a4-89ec-f57ecbe9c58b",
   "metadata": {},
   "outputs": [],
   "source": [
    "compression_retriever=ContextualCompressionRetriever(\n",
    "    base_compressor=compressor,\n",
    "    base_retriever=vector_store.as_retriever()\n",
    ")"
   ]
  },
  {
   "cell_type": "code",
   "execution_count": 15,
   "id": "899ed30c-abab-4f70-8bc1-c593b5b77cd7",
   "metadata": {},
   "outputs": [],
   "source": [
    "compressed_docs=compression_retriever.invoke(consulta)"
   ]
  },
  {
   "cell_type": "code",
   "execution_count": 16,
   "id": "b4f53abc-b6e8-427c-9df4-c7c559a8efef",
   "metadata": {},
   "outputs": [
    {
     "data": {
      "text/plain": [
       "'Es denominada como la \"capital arrocera del Ecuador\" por su importante producción de arroz.'"
      ]
     },
     "execution_count": 16,
     "metadata": {},
     "output_type": "execute_result"
    }
   ],
   "source": [
    "compressed_docs[0].page_content"
   ]
  },
  {
   "cell_type": "code",
   "execution_count": null,
   "id": "f38499e6-afac-4738-b8d2-65403dabb84a",
   "metadata": {},
   "outputs": [],
   "source": []
  }
 ],
 "metadata": {
  "kernelspec": {
   "display_name": "Python 3 (ipykernel)",
   "language": "python",
   "name": "python3"
  },
  "language_info": {
   "codemirror_mode": {
    "name": "ipython",
    "version": 3
   },
   "file_extension": ".py",
   "mimetype": "text/x-python",
   "name": "python",
   "nbconvert_exporter": "python",
   "pygments_lexer": "ipython3",
   "version": "3.11.11"
  }
 },
 "nbformat": 4,
 "nbformat_minor": 5
}
