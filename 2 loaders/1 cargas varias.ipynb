{
 "cells": [
  {
   "cell_type": "code",
   "execution_count": 2,
   "id": "0d0799b7-43b0-4c30-bf0d-ac178f5d9371",
   "metadata": {},
   "outputs": [],
   "source": [
    "from langchain.prompts import PromptTemplate,SystemMessagePromptTemplate,ChatPromptTemplate,HumanMessagePromptTemplate\n",
    "from langchain_openai import ChatOpenAI\n",
    "f=open('../openai_api_key.txt')\n",
    "openai_api_key=f.read()\n",
    "chat=ChatOpenAI(openai_api_key=openai_api_key)"
   ]
  },
  {
   "cell_type": "markdown",
   "id": "652c0b23-260d-4e94-beb7-4f6195d9bf20",
   "metadata": {},
   "source": [
    "# Cargas datos CSV"
   ]
  },
  {
   "cell_type": "code",
   "execution_count": 9,
   "id": "70b72b6f-9174-4b5e-b0fd-2d98a9d49ca8",
   "metadata": {},
   "outputs": [],
   "source": [
    "from langchain.document_loaders import CSVLoader"
   ]
  },
  {
   "cell_type": "code",
   "execution_count": 10,
   "id": "b0bd78bb-9ce2-4c76-9aa2-c112437a3ce6",
   "metadata": {},
   "outputs": [],
   "source": [
    "loader=CSVLoader('data_sources/survey-bussiness-2023.csv',csv_args={'delimiter':','})"
   ]
  },
  {
   "cell_type": "code",
   "execution_count": 11,
   "id": "86d849d6-e4aa-40b2-819a-35031738c978",
   "metadata": {},
   "outputs": [],
   "source": [
    "data=loader.load()"
   ]
  },
  {
   "cell_type": "code",
   "execution_count": 13,
   "id": "6c4f23a7-39a0-4193-b3b8-820f0f2337c9",
   "metadata": {},
   "outputs": [
    {
     "data": {
      "text/plain": [
       "list"
      ]
     },
     "execution_count": 13,
     "metadata": {},
     "output_type": "execute_result"
    }
   ],
   "source": [
    "type(data)"
   ]
  },
  {
   "cell_type": "code",
   "execution_count": 15,
   "id": "0a937b4b-7660-4c65-b082-46cfef8444cc",
   "metadata": {},
   "outputs": [
    {
     "data": {
      "text/plain": [
       "'description: Total number of businesses\\nindustry: total\\nlevel: 0\\nsize: 20–49 employees\\nline_code: \\nvalue: 8796\\nUnit: Number of businesses\\nFootnotes: 1 and 2 and 3 and 4 and 6'"
      ]
     },
     "execution_count": 15,
     "metadata": {},
     "output_type": "execute_result"
    }
   ],
   "source": [
    "data[1].page_content"
   ]
  },
  {
   "cell_type": "markdown",
   "id": "04f02baa-d9e0-4ff0-a2d2-116fffaffd3f",
   "metadata": {},
   "source": [
    "# Cargar datos HTML"
   ]
  },
  {
   "cell_type": "code",
   "execution_count": 26,
   "id": "dc87594b-af46-46f5-8eb1-3986eabb5572",
   "metadata": {},
   "outputs": [],
   "source": [
    "from langchain.document_loaders import BSHTMLLoader"
   ]
  },
  {
   "cell_type": "code",
   "execution_count": 30,
   "id": "baa4dec8-4e20-4e8a-ab4a-3e5b966fde4e",
   "metadata": {},
   "outputs": [],
   "source": [
    "loader_html=BSHTMLLoader('data_sources/marketplace.html',bs_kwargs={\"features\": \"html.parser\"})"
   ]
  },
  {
   "cell_type": "code",
   "execution_count": 31,
   "id": "71eb698d-d004-47b6-b4d8-a3e999c86122",
   "metadata": {},
   "outputs": [],
   "source": [
    "data=loader_html.load()"
   ]
  },
  {
   "cell_type": "code",
   "execution_count": 32,
   "id": "81ced677-c04e-4c5b-b4f1-83d98b74928a",
   "metadata": {},
   "outputs": [
    {
     "data": {
      "text/plain": [
       "[Document(metadata={'source': 'data_sources/marketplace.html', 'title': ''}, page_content='Sugerencias de hoyGuayaquil\\xa0 Â· 40 km$6.000Guayaquil, G$380.000De Oportunidad Departamento de Estreno en Mocoli etapa Blue BayGuayaquil, G$39.500Guayaquil, G$15.000CÃ¡mara de cine digital RED EPIC MX 5K full extras y Set de 5 Opticas Schneider FF XenonGuayaquil, G$3.700Se vende o cambio lada nova 4x4Eloy Alfaro, G$300MacBook ProGuayaquil, G$145.0002022 Jeep grand wagoneer blindado nivel 4 3 filasGuayaquil, G$35.000SE VENDÃ‰ CASA AL SUR DE GUAYAQUIL A CRÃ‰DITO DE OPORTUNIDAD!!!!!Guayaquil, G$48.000Guayaquil, G$69.800Guayaquil, G$52.000Bote bayliner familiarGuayaquil, G$115.000ðŸ“Œ Casa en Alborada 14/ Excelentes acabados/ cuenta con Ã¡rea social.Guayaquil, G$495.000Casa en venta de 5 dormitorios con piscina en Urb. Tenis Club, SamborondÃ³n Tarifa, G$150Pistola airsoft Hicapa Tokyo Marui 4.3Guayaquil, G$50iPod Touch 7ma GeneraciÃ³n â€“ 32GB | MÃºsica, Juegos y AppsGuayaquil, G$150iPhone 12 pro Max Guayaquil, G$6.500TroperGuayaquil, G$295.0002020 Lamborghini urus 648 hp v8Guayaquil, G')]"
      ]
     },
     "execution_count": 32,
     "metadata": {},
     "output_type": "execute_result"
    }
   ],
   "source": [
    "data"
   ]
  },
  {
   "cell_type": "markdown",
   "id": "660136f8-14b3-4a03-b307-f6f890590784",
   "metadata": {},
   "source": [
    "# Cargas datos PDF"
   ]
  },
  {
   "cell_type": "code",
   "execution_count": 33,
   "id": "ee9a7485-8174-49c1-af8f-73314fde54dd",
   "metadata": {},
   "outputs": [],
   "source": [
    "from langchain.document_loaders import PyPDFLoader"
   ]
  },
  {
   "cell_type": "code",
   "execution_count": 34,
   "id": "50ba0d21-b7cc-49fd-aa3b-919769b3a25e",
   "metadata": {},
   "outputs": [],
   "source": [
    "loader=PyPDFLoader('data_sources/procesamiento_lenguaje_natural.pdf')"
   ]
  },
  {
   "cell_type": "code",
   "execution_count": null,
   "id": "ceb4fa46-c8a5-40f7-b8bc-83c4556c61d9",
   "metadata": {},
   "outputs": [],
   "source": [
    "pages=loader.load()"
   ]
  },
  {
   "cell_type": "code",
   "execution_count": null,
   "id": "baa93b34-3877-4385-995e-864075f651a0",
   "metadata": {},
   "outputs": [],
   "source": []
  }
 ],
 "metadata": {
  "kernelspec": {
   "display_name": "Python 3 (ipykernel)",
   "language": "python",
   "name": "python3"
  },
  "language_info": {
   "codemirror_mode": {
    "name": "ipython",
    "version": 3
   },
   "file_extension": ".py",
   "mimetype": "text/x-python",
   "name": "python",
   "nbconvert_exporter": "python",
   "pygments_lexer": "ipython3",
   "version": "3.11.11"
  }
 },
 "nbformat": 4,
 "nbformat_minor": 5
}
