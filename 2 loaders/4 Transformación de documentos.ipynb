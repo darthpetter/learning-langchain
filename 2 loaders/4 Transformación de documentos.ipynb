{
 "cells": [
  {
   "cell_type": "markdown",
   "id": "2edd8801-ad20-41e5-884b-49c1f49f650d",
   "metadata": {},
   "source": [
    "# Carga del archivo"
   ]
  },
  {
   "cell_type": "code",
   "execution_count": 6,
   "id": "a7eb9e82-1742-45b7-b0f6-95ff0f64d97f",
   "metadata": {},
   "outputs": [],
   "source": [
    "from langchain.document_loaders import PyPDFLoader\n",
    "pdf_loader=PyPDFLoader('data_sources/procesamiento_lenguaje_natural.pdf')\n",
    "pages=pdf_loader.load()"
   ]
  },
  {
   "cell_type": "code",
   "execution_count": 8,
   "id": "98f538c4-bb67-4b74-adde-7c763be0df30",
   "metadata": {},
   "outputs": [],
   "source": [
    "texto_completo=\"\"\n",
    "for page in pages:\n",
    "    texto_completo+=page.page_content    "
   ]
  },
  {
   "cell_type": "code",
   "execution_count": 11,
   "id": "be306a05-7ee8-4d0b-99db-fdcfc16c895e",
   "metadata": {},
   "outputs": [
    {
     "data": {
      "text/plain": [
       "360945"
      ]
     },
     "execution_count": 11,
     "metadata": {},
     "output_type": "execute_result"
    }
   ],
   "source": [
    "len(texto_completo)"
   ]
  },
  {
   "cell_type": "code",
   "execution_count": 12,
   "id": "f4d26742-cc76-4a69-abd8-847e8bf1ce08",
   "metadata": {},
   "outputs": [
    {
     "data": {
      "text/plain": [
       "54786"
      ]
     },
     "execution_count": 12,
     "metadata": {},
     "output_type": "execute_result"
    }
   ],
   "source": [
    "len(texto_completo.split())"
   ]
  },
  {
   "cell_type": "markdown",
   "id": "1109c8ff-1752-4822-85b1-213d7268db45",
   "metadata": {},
   "source": [
    "# Transformador \"Character Text Splitter\""
   ]
  },
  {
   "cell_type": "code",
   "execution_count": 13,
   "id": "1e18a4ee-658d-4605-a658-de66a987c26b",
   "metadata": {},
   "outputs": [],
   "source": [
    "from langchain.text_splitter import CharacterTextSplitter"
   ]
  },
  {
   "cell_type": "code",
   "execution_count": 14,
   "id": "6611c432-d017-4607-b813-b2df3f5a1ba2",
   "metadata": {},
   "outputs": [],
   "source": [
    "text_splitter=CharacterTextSplitter(separator=\"\\n\",chunk_size=1000)"
   ]
  },
  {
   "cell_type": "code",
   "execution_count": 15,
   "id": "16162b16-2fab-431f-b12f-a454cd6a92b1",
   "metadata": {},
   "outputs": [],
   "source": [
    "texts=text_splitter.create_documents([texto_completo])"
   ]
  },
  {
   "cell_type": "code",
   "execution_count": 17,
   "id": "c1ef32d2-a3cd-412c-a5cc-d52909097893",
   "metadata": {},
   "outputs": [
    {
     "name": "stdout",
     "output_type": "stream",
     "text": [
      "<class 'list'>\n",
      "\n",
      "\n",
      "conversar, por lo que aparte de tener que analizar el lenguaje natural durante la \n",
      "conversación, deben tener en cuenta el turno de palabra. Por lo tanto, los agentes \n",
      "conversacionales además de tratar con tareas básicas del procesamiento del lenguaje \n",
      "natural como son el reconocimiento de palabras y frases o la semántica de las \n",
      "mismas, deben mantener el estado de la conversación y ser capaces de generar \n",
      "nuevas frases que continúen la conversación que mantienen con la persona. \n",
      " \n",
      "Traducción automática \n",
      " \n",
      "Es otra tarea relacionada con el procesamiento del lenguaje natural. El objetivo de la \n",
      "traducción automática es traducir automáticamente un documento de un idioma a \n",
      "otro. Además, se incluye en este ámbito no solo la traducción de documentos de \n",
      "texto, también la traducción de forma automática del habla de un lenguaje o idioma \n",
      "a otro. \n",
      "Agentes \n",
      "conversacionales\n",
      "Traducción \n",
      "automática\n",
      "Búsqueda de \n",
      "respuestasProcesamiento del Lenguaje Natural \n",
      "Tema 1. Ideas clave \n",
      "18\n"
     ]
    }
   ],
   "source": [
    "print(type(texts))\n",
    "print(\"\\n\")\n",
    "print(texts[33].page_content)"
   ]
  },
  {
   "cell_type": "code",
   "execution_count": null,
   "id": "ab65f300-b164-4e33-85ef-60ee34198be0",
   "metadata": {},
   "outputs": [],
   "source": []
  }
 ],
 "metadata": {
  "kernelspec": {
   "display_name": "Python 3 (ipykernel)",
   "language": "python",
   "name": "python3"
  },
  "language_info": {
   "codemirror_mode": {
    "name": "ipython",
    "version": 3
   },
   "file_extension": ".py",
   "mimetype": "text/x-python",
   "name": "python",
   "nbconvert_exporter": "python",
   "pygments_lexer": "ipython3",
   "version": "3.11.11"
  }
 },
 "nbformat": 4,
 "nbformat_minor": 5
}
