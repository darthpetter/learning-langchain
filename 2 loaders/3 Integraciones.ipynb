{
 "cells": [
  {
   "cell_type": "code",
   "execution_count": 7,
   "id": "59c32ea5-a1d0-4b67-9950-dc8e111fd162",
   "metadata": {},
   "outputs": [],
   "source": [
    "from langchain.document_loaders import WikipediaLoader\n",
    "from langchain.prompts import ChatPromptTemplate,HumanMessagePromptTemplate"
   ]
  },
  {
   "cell_type": "code",
   "execution_count": 8,
   "id": "6b4800ff-2a7c-4072-b8ee-05dce3477870",
   "metadata": {},
   "outputs": [],
   "source": [
    "from langchain_openai import ChatOpenAI\n",
    "f=open('../openai_api_key.txt')\n",
    "api_key=f.read()\n",
    "chat=ChatOpenAI(openai_api_key=api_key)"
   ]
  },
  {
   "cell_type": "code",
   "execution_count": 9,
   "id": "8d853ee1-fa37-4ffc-a6d5-0a1cfc5ed861",
   "metadata": {},
   "outputs": [],
   "source": [
    "def responder_wikipedia(persona,pregunta_arg):\n",
    "    docs=WikipediaLoader(query=persona,lang=\"es\",load_max_docs=10)\n",
    "    contenido_extra=docs.load()[0].page_content\n",
    "    \n",
    "    print(\"======contenido extra de wikipedia🌐=======\")\n",
    "    print(contenido_extra)\n",
    "    print(\"======/contenido extra de wikipedia🌐=======\")\n",
    "    \n",
    "    human_prompt=HumanMessagePromptTemplate.from_template(\n",
    "        'Responde a esta pregunta\\n{pregunta}, aquí tienes el contenido extra: {contenido}'\n",
    "    )\n",
    "\n",
    "    chat_prompt=ChatPromptTemplate.from_messages([human_prompt])\n",
    "\n",
    "    result=chat.invoke(\n",
    "        chat_prompt.format_prompt(\n",
    "            pregunta=pregunta_arg,\n",
    "            contenido=contenido_extra\n",
    "        ).to_messages()\n",
    "    )\n",
    "\n",
    "    print(result.content)"
   ]
  },
  {
   "cell_type": "code",
   "execution_count": 10,
   "id": "3eeba152-7239-4c2e-a185-7fc763a87349",
   "metadata": {},
   "outputs": [
    {
     "name": "stderr",
     "output_type": "stream",
     "text": [
      "C:\\Users\\PC\\anaconda3\\envs\\langchain\\Lib\\site-packages\\wikipedia\\wikipedia.py:389: GuessedAtParserWarning: No parser was explicitly specified, so I'm using the best available HTML parser for this system (\"lxml\"). This usually isn't a problem, but if you run this code on another system, or in a different virtual environment, it may use a different parser and behave differently.\n",
      "\n",
      "The code that caused this warning is on line 389 of the file C:\\Users\\PC\\anaconda3\\envs\\langchain\\Lib\\site-packages\\wikipedia\\wikipedia.py. To get rid of this warning, pass the additional argument 'features=\"lxml\"' to the BeautifulSoup constructor.\n",
      "\n",
      "  lis = BeautifulSoup(html).find_all('li')\n"
     ]
    },
    {
     "name": "stdout",
     "output_type": "stream",
     "text": [
      "======contenido extra de wikipedia🌐=======\n",
      "Simón Pedro (Betsaida, finales del siglo I a. C.-Roma, c. 67 d. C.),[nota 2]​ conocido también como san Pedro, Cefas o, simplemente, Pedro, fue, de acuerdo con múltiples pasajes neotestamentarios, uno de los discípulos más destacados de Jesús de Nazaret. Su nombre de nacimiento era Simón bar-Jona[4]​ (en arameo: שמעון בר יונה‎, romanizado: Shim'on bar Yonah)[5]​ y era pescador de oficio en el mar de Galilea. Por su seguimiento de Jesús de Nazaret, se constituyó en el apóstol más conocido y citado en el «Nuevo Testamento» en general, de los cuatro evangelios canónicos, y en los «Hechos de los Apóstoles» en particular, que lo presentan bajo muy variados aspectos. También es citado por Pablo de Tarso en sus Epístolas paulinas, incluyendo la Epístola a los gálatas donde lo refiere como una de las tres columnas de la Iglesia de Jerusalén.[a]​ Figura de primer orden para la teología cristiana, es también conocido como el príncipe de los apóstoles.[6]​ Dado el prestigio del que gozó en la Iglesia primitiva, proliferaron los textos escritos por autores anónimos que se titulaban a su nombre, como el Evangelio de Pedro, el Apocalipsis de Pedro, la Primera y Segunda epístola de Pedro, los Hechos de Pedro  y los Hechos de Pedro y Pablo, entre otros.[6]​\n",
      "La Iglesia católica lo identifica a través de la sucesión apostólica como el primer papa, basándose, entre otros argumentos, en las palabras que le dirigió Jesús: «Tú eres Pedro, y sobre esta piedra edificaré mi Iglesia, y el poder de la muerte no prevalecerá contra ella. Yo te daré las llaves del Reino de los Cielos. Todo lo que ates en la tierra, quedará atado en el cielo, y todo lo que desates en la tierra, quedará desatado en el cielo» (Mateo 16, 18-19).[7]​ Las demás iglesias apostólicas, como la Iglesia ortodoxa, históricamente reconocieron la primacía del apóstol Pedro y de sus sucesores, patriarcas de Occidente, pero solo de forma honorífica y no con las atribuciones que la Iglesia católica le otorga.[8]​ Además del papa, obispo de Roma, los patriarcas de Antioquía (sirio-ortodoxos, greco-ortodoxos, maronitas, sirio-católicos y greco-católicos) también se consideran sus sucesores.\n",
      "La persona de Pedro ha sido representada por innumerables artistas, que se inspiraron en pasajes tanto del Nuevo Testamento como de los textos apócrifos, entre ellos: su llamado al seguimiento de Jesús de Nazaret, la entrega de las llaves del Reino, el lavatorio de los pies durante la Última Cena, sus negaciones durante la pasión de Jesucristo, la comisión de apacentar la grey por parte de Jesús resucitado, sus predicaciones y curaciones después de Pentecostés, sus controversias con Pablo de Tarso y su martirio en Roma. Se lo caracteriza iconográficamente con unas llaves que simbolizan el reino de Dios, el gallo que recuerda sus negaciones, la cruz invertida que es emblema de su martirio, el báculo que se le atribuye como pastor, y también el pez, símbolo de la promesa de Jesús de Nazaret de hacerlo «pescador de hombres».[b]​\n",
      "\n",
      "\n",
      "== Simón Pedro en el «Nuevo Testamento» ==\n",
      "\n",
      "\n",
      "=== Nombre ===\n",
      "Todos los evangelios mencionan el nombre de Simón (en griego: Σίμων; en arameo: שמעון‎, romanizado: Shim'on), un nombre judío cuya raíz שמע (shamá') es \"escuchar\" y puede interpretarse como quien \"escucha a Dios\" o a quien \"Dios escucha\". Mateo y Juan llaman al apóstol Simón \"hijo de Jonás\"[c]​ o \"hijo de Juan\",[d]​ pues Mateo translitera el nombre completo desde el arameo (שמעון בר יונה) al griego (Σίμων βαρϊωνᾶ, Símōn Bariōnâ), mientras que Juan escribe el nombre propio del padre de Simón en griego (Σίμων ὁ υἱὸς Ἰωάννου, Símōn ho hyòs Iiōánnou), alejándose de su nombre nativo (יונה, Yonah).[5]​\n",
      "En la historia de la llamada de los discípulos, Jesús se dirige a Simón con la palabra griega Κηφᾶς (Cefas), una forma helenizada del arameo כיפה (kefah) o כיפא (kefá), que significa \"roca\" o \"piedra\".[5]​[9]​[10]​ Así pues, Jesús llama \"roca\" a Simón,[5]​[10]​ y a continuación, el autor del Evangelio de Juan traduce el nombre ara\n",
      "======/contenido extra de wikipedia🌐=======\n",
      "San Pedro murió martirizado en Roma, probablemente alrededor del año 67 d.C. según la tradición. Se dice que fue crucificado de cabeza hacia abajo, ya que consideraba no ser digno de morir de la misma manera que su Señor, Jesucristo.\n"
     ]
    }
   ],
   "source": [
    "responder_wikipedia(\"Apostol Pedro\",\"¿Cómo murió?\")"
   ]
  },
  {
   "cell_type": "code",
   "execution_count": null,
   "id": "ccee1027-bda8-40d3-8c93-03350572c9c1",
   "metadata": {},
   "outputs": [],
   "source": []
  }
 ],
 "metadata": {
  "kernelspec": {
   "display_name": "Python 3 (ipykernel)",
   "language": "python",
   "name": "python3"
  },
  "language_info": {
   "codemirror_mode": {
    "name": "ipython",
    "version": 3
   },
   "file_extension": ".py",
   "mimetype": "text/x-python",
   "name": "python",
   "nbconvert_exporter": "python",
   "pygments_lexer": "ipython3",
   "version": "3.11.11"
  }
 },
 "nbformat": 4,
 "nbformat_minor": 5
}
