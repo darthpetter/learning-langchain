{
 "cells": [
  {
   "cell_type": "code",
   "execution_count": 70,
   "id": "591da900-6999-4781-a14e-9f61b04c3eae",
   "metadata": {},
   "outputs": [],
   "source": [
    "from langchain.prompts import PromptTemplate,SystemMessagePromptTemplate,ChatPromptTemplate,HumanMessagePromptTemplate\n",
    "from langchain_openai import ChatOpenAI\n",
    "from langchain.chains import SimpleSequentialChain,LLMChain,TransformChain\n",
    "\n",
    "f=open('../openai_api_key.txt')\n",
    "api_key=f.read()\n",
    "llm=ChatOpenAI(openai_api_key=api_key)"
   ]
  },
  {
   "cell_type": "markdown",
   "id": "ec669cb2-d90f-48bb-b49b-c311a4a83adb",
   "metadata": {},
   "source": [
    "# Importación de documentos"
   ]
  },
  {
   "cell_type": "code",
   "execution_count": 71,
   "id": "36ffa625-db93-49fa-8986-ba0f0b2a55a0",
   "metadata": {},
   "outputs": [],
   "source": [
    "from langchain.document_loaders import WikipediaLoader"
   ]
  },
  {
   "cell_type": "code",
   "execution_count": 72,
   "id": "d2532b3e-f2ac-46b0-84c1-b38081ca3b24",
   "metadata": {},
   "outputs": [
    {
     "name": "stdin",
     "output_type": "stream",
     "text": [
      " Emelec\n"
     ]
    }
   ],
   "source": [
    "tema_consulta=input()"
   ]
  },
  {
   "cell_type": "code",
   "execution_count": 73,
   "id": "57b66414-187f-4460-bf40-f6e9a735d9ce",
   "metadata": {},
   "outputs": [
    {
     "name": "stdin",
     "output_type": "stream",
     "text": [
      " japonés\n"
     ]
    }
   ],
   "source": [
    "idioma_final=input()"
   ]
  },
  {
   "cell_type": "code",
   "execution_count": 74,
   "id": "2a9d2d1b-238d-4bba-bc05-53b470b7dd36",
   "metadata": {},
   "outputs": [],
   "source": [
    "loader=WikipediaLoader(\n",
    "    query=tema_consulta,\n",
    "    lang='es',\n",
    "    load_max_docs=10\n",
    ")"
   ]
  },
  {
   "cell_type": "code",
   "execution_count": 75,
   "id": "ca5e4cc4-3bee-4f54-b655-3b14539e2fde",
   "metadata": {},
   "outputs": [],
   "source": [
    "data=loader.load()"
   ]
  },
  {
   "cell_type": "code",
   "execution_count": 76,
   "id": "489dc3dd-945c-4f8b-8cdb-4482d063b37e",
   "metadata": {},
   "outputs": [],
   "source": [
    "texto_entrada=data[0].page_content"
   ]
  },
  {
   "cell_type": "markdown",
   "id": "4754a20a-3889-41c4-a9a9-a646053a5ad9",
   "metadata": {},
   "source": [
    "# Transform Chain\n",
    "## Definir función de transformación personalizada"
   ]
  },
  {
   "cell_type": "code",
   "execution_count": 77,
   "id": "5072823a-ff59-408f-85e7-db5f2012b3e0",
   "metadata": {},
   "outputs": [],
   "source": [
    "def transformer_function(inputs:dict)->dict:\n",
    "    texto=inputs['texto']\n",
    "    primer_parrafo=texto.split('\\n')[0]\n",
    "    return {'salida':primer_parrafo}"
   ]
  },
  {
   "cell_type": "code",
   "execution_count": 78,
   "id": "6b97e7b4-c778-43d2-9c6f-1ae019c69ada",
   "metadata": {},
   "outputs": [],
   "source": [
    "transform_chain=TransformChain(\n",
    "    input_variables=['texto'],\n",
    "    output_variables=['salida'],\n",
    "    transform=transformer_function\n",
    ")"
   ]
  },
  {
   "cell_type": "markdown",
   "id": "bd42ff79-7bab-4b9b-ac20-2d96d63a7030",
   "metadata": {},
   "source": [
    "## Definir la cadena secuencial"
   ]
  },
  {
   "cell_type": "code",
   "execution_count": 79,
   "id": "77358795-7204-489d-a8e1-fde9644e2fe4",
   "metadata": {},
   "outputs": [],
   "source": [
    "template1=\"Crea un resumen en una línea del siguiente texto:\\n{texto}\"\n",
    "prompt=ChatPromptTemplate.from_template(template1)\n",
    "summary_chain=LLMChain(\n",
    "    llm=llm,\n",
    "    prompt=prompt,\n",
    "    output_key=\"texto_resumen\"\n",
    ")"
   ]
  },
  {
   "cell_type": "code",
   "execution_count": 80,
   "id": "57c8f693-29b6-4fd5-a074-165b8544e4f4",
   "metadata": {},
   "outputs": [],
   "source": [
    "template2=\"Traduce a \"+idioma_final+\"el siguiente texto:\\n{texto}\"\n",
    "prompt2=ChatPromptTemplate.from_template(template2)\n",
    "translate_chain=LLMChain(\n",
    "    llm=llm,\n",
    "    prompt=prompt2,\n",
    "    output_key=\"texto_traducido\"\n",
    ")"
   ]
  },
  {
   "cell_type": "code",
   "execution_count": 81,
   "id": "a6fa8584-ab81-4cca-bfbe-2824b3c3572a",
   "metadata": {},
   "outputs": [],
   "source": [
    "sequential_chain=SimpleSequentialChain(\n",
    "    chains=[transform_chain,summary_chain,translate_chain],\n",
    "    verbose=True\n",
    ")"
   ]
  },
  {
   "cell_type": "code",
   "execution_count": 82,
   "id": "3967dc13-4007-4ca9-8ae6-956c59ea799d",
   "metadata": {},
   "outputs": [
    {
     "name": "stdout",
     "output_type": "stream",
     "text": [
      "\n",
      "\n",
      "\u001b[1m> Entering new SimpleSequentialChain chain...\u001b[0m\n",
      "\u001b[36;1m\u001b[1;3mEl Club Sport Emelec, conocido popularmente de manera abreviada como Emelec, es un club multideportivo ecuatoriano. Originario de la ciudad de Guayaquil fue fundado el 28 de abril de 1929 por el estadounidense George Capwell.[7]​Además de su disciplina principal de fútbol, el club cuenta con diversas filiales deportivas, como levantamiento de pesas, natación, béisbol, baloncesto, físicoculturismo, box, taekwondo, judo, ciclismo, tenis de mesa, voleibol, sóftbol, bolos, deportes electrónicos y fútbol femenino.[7]​[8]​\u001b[0m\n",
      "\u001b[33;1m\u001b[1;3mClub Sport Emelec, fundado en 1929 en Guayaquil por George Capwell, es un club multideportivo con diversas disciplinas además del fútbol.\u001b[0m\n",
      "\u001b[38;5;200m\u001b[1;3mクラブスポーツエメレク、1929年にジョージ・キャプウェルによってグアヤキルで設立された、サッカー以外にもさまざまな競技を行うマルチスポーツクラブです。\u001b[0m\n",
      "\n",
      "\u001b[1m> Finished chain.\u001b[0m\n"
     ]
    }
   ],
   "source": [
    "result=sequential_chain(texto_entrada)"
   ]
  },
  {
   "cell_type": "code",
   "execution_count": null,
   "id": "f29d2849-4adf-490e-b839-c4fd98b6dbec",
   "metadata": {},
   "outputs": [],
   "source": []
  }
 ],
 "metadata": {
  "kernelspec": {
   "display_name": "Python 3 (ipykernel)",
   "language": "python",
   "name": "python3"
  },
  "language_info": {
   "codemirror_mode": {
    "name": "ipython",
    "version": 3
   },
   "file_extension": ".py",
   "mimetype": "text/x-python",
   "name": "python",
   "nbconvert_exporter": "python",
   "pygments_lexer": "ipython3",
   "version": "3.11.11"
  }
 },
 "nbformat": 4,
 "nbformat_minor": 5
}
