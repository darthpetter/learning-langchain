{
 "cells": [
  {
   "cell_type": "code",
   "execution_count": 1,
   "id": "7a5154dc-45ba-412a-9270-4a1bf387dcfd",
   "metadata": {},
   "outputs": [
    {
     "name": "stderr",
     "output_type": "stream",
     "text": [
      "C:\\Users\\PC\\anaconda3\\envs\\langchain\\Lib\\site-packages\\requests\\__init__.py:86: RequestsDependencyWarning: Unable to find acceptable character detection dependency (chardet or charset_normalizer).\n",
      "  warnings.warn(\n"
     ]
    }
   ],
   "source": [
    "from langchain.prompts import PromptTemplate,SystemMessagePromptTemplate,ChatPromptTemplate,HumanMessagePromptTemplate\n",
    "from langchain_openai import ChatOpenAI\n",
    "from langchain.chains import SimpleSequentialChain,LLMChain,TransformChain\n",
    "\n",
    "f=open('../openai_api_key.txt')\n",
    "api_key=f.read()\n",
    "llm=ChatOpenAI(openai_api_key=api_key)"
   ]
  },
  {
   "cell_type": "markdown",
   "id": "52db1b9e-0558-4140-8181-651677fe800c",
   "metadata": {},
   "source": [
    "# Guardar en BD Vector"
   ]
  },
  {
   "cell_type": "code",
   "execution_count": 2,
   "id": "0dfd84cc-c8a9-4b33-9b5d-083883f1d6a4",
   "metadata": {},
   "outputs": [],
   "source": [
    "from langchain_ollama import OllamaEmbeddings\n",
    "from langchain_community.vectorstores import SKLearnVectorStore"
   ]
  },
  {
   "cell_type": "code",
   "execution_count": 3,
   "id": "de867818-44df-424b-9233-84567df195ba",
   "metadata": {},
   "outputs": [],
   "source": [
    "from langchain.document_loaders import WikipediaLoader\n",
    "wikiloader=WikipediaLoader(query=\"Lolabúm\",lang='es')\n",
    "documents=wikiloader.load()"
   ]
  },
  {
   "cell_type": "code",
   "execution_count": 4,
   "id": "8aa7add0-37fc-46a2-a2fc-27bf316bd16b",
   "metadata": {},
   "outputs": [
    {
     "name": "stderr",
     "output_type": "stream",
     "text": [
      "Created a chunk of size 1159, which is longer than the specified 500\n",
      "Created a chunk of size 548, which is longer than the specified 500\n",
      "Created a chunk of size 501, which is longer than the specified 500\n"
     ]
    }
   ],
   "source": [
    "from langchain.text_splitter import CharacterTextSplitter\n",
    "text_splitter=CharacterTextSplitter.from_tiktoken_encoder(chunk_size=500)\n",
    "docs=text_splitter.split_documents(documents)"
   ]
  },
  {
   "cell_type": "code",
   "execution_count": 5,
   "id": "c4960f4a-b213-4795-9273-e1806e8ed883",
   "metadata": {},
   "outputs": [],
   "source": [
    "embedding_function=OllamaEmbeddings(model='nomic-embed-text:latest')"
   ]
  },
  {
   "cell_type": "code",
   "execution_count": 6,
   "id": "5e7dde2d-ed38-42d6-a5e5-20772c054872",
   "metadata": {},
   "outputs": [],
   "source": [
    "vector_store_connection=SKLearnVectorStore.from_documents(\n",
    "    documents=docs,\n",
    "    embedding=embedding_function,\n",
    "    persist_path='../persistence/bloque3/ejemplos_embedding',\n",
    "    serializer=\"parquet\"\n",
    ")\n",
    "vector_store_connection.persist()"
   ]
  },
  {
   "cell_type": "markdown",
   "id": "42035350-ade1-4495-b460-979282d10254",
   "metadata": {},
   "source": [
    "# Conexión en BD Vector"
   ]
  },
  {
   "cell_type": "code",
   "execution_count": 7,
   "id": "fe0f2ccd-1e35-4d97-a209-6f74e7eba14e",
   "metadata": {},
   "outputs": [],
   "source": [
    "embedding_function=OllamaEmbeddings(model='nomic-embed-text:latest')"
   ]
  },
  {
   "cell_type": "code",
   "execution_count": 8,
   "id": "e6913900-50d4-48bc-bc6f-9aca948e0c18",
   "metadata": {},
   "outputs": [],
   "source": [
    "vector_store_connection=SKLearnVectorStore(\n",
    "    embedding=embedding_function,\n",
    "    persist_path='../persistence/bloque3/ejemplos_embedding',\n",
    "    serializer=\"parquet\"\n",
    ")"
   ]
  },
  {
   "cell_type": "markdown",
   "id": "097cb473-ad80-4c85-94e4-f3dcf088db72",
   "metadata": {},
   "source": [
    "# Cargar cadenas QA"
   ]
  },
  {
   "cell_type": "code",
   "execution_count": 9,
   "id": "d47f95c1-98a1-4249-aecf-d6e4e4b7d8cf",
   "metadata": {},
   "outputs": [],
   "source": [
    "from langchain.chains.question_answering import load_qa_chain\n",
    "from langchain.chains.qa_with_sources import load_qa_with_sources_chain"
   ]
  },
  {
   "cell_type": "code",
   "execution_count": 10,
   "id": "a851d9d1-e7a4-49dc-b393-d1aef6c2edee",
   "metadata": {},
   "outputs": [
    {
     "name": "stderr",
     "output_type": "stream",
     "text": [
      "C:\\Users\\PC\\AppData\\Local\\Temp\\ipykernel_28984\\1188944448.py:1: LangChainDeprecationWarning: This class is deprecated. See the following migration guides for replacements based on `chain_type`:\n",
      "stuff: https://python.langchain.com/docs/versions/migrating_chains/stuff_docs_chain\n",
      "map_reduce: https://python.langchain.com/docs/versions/migrating_chains/map_reduce_chain\n",
      "refine: https://python.langchain.com/docs/versions/migrating_chains/refine_chain\n",
      "map_rerank: https://python.langchain.com/docs/versions/migrating_chains/map_rerank_docs_chain\n",
      "\n",
      "See also guides on retrieval and question-answering here: https://python.langchain.com/docs/how_to/#qa-with-rag\n",
      "  chain=load_qa_chain(\n"
     ]
    }
   ],
   "source": [
    "chain=load_qa_chain(\n",
    "    llm,\n",
    "    chain_type='stuff'\n",
    ")"
   ]
  },
  {
   "cell_type": "code",
   "execution_count": 23,
   "id": "0851ec74-ce35-44ef-9504-7a6bfa0d1d8b",
   "metadata": {},
   "outputs": [],
   "source": [
    "question=\"¿En qué ciudades y años ha tocado la banda Lolabúm?\""
   ]
  },
  {
   "cell_type": "code",
   "execution_count": 24,
   "id": "29d439a8-9e19-4df9-8c74-9035963d53eb",
   "metadata": {},
   "outputs": [],
   "source": [
    "docs=vector_store_connection.similarity_search(question)"
   ]
  },
  {
   "cell_type": "code",
   "execution_count": 25,
   "id": "48082777-95da-418f-b200-829a6efce6c5",
   "metadata": {},
   "outputs": [
    {
     "data": {
      "text/plain": [
       "[Document(metadata={'id': '365f1cb3-2985-45fa-9db4-72160f591a2d', 'source': 'https://es.wikipedia.org/wiki/Lolab%C3%BAm', 'summary': 'Lolabúm es una banda de rock ecuatoriano formada en Quito a mediados del 2014. Está conformada actualmente por el cantante y multinstrumentista Pedro Bonfim, el bajista Martín Erazo, el guitarrista Joaquín Prado y el baterista José Miguel Fabre.  La banda entró a la escena musical ecuatoriana en 2015 con varios conciertos en diferentes ciudades de Ecuador. En 2016 lanzaron su primer álbum de estudio El Cielo con el cual exploraron un sonido de rock y rock alternativo con una producción similar al lo-fi. En julio de 2018, la banda sacó su segundo álbum Tristes Trópicos, con letras de mayor profundidad y sonidos diversos tomando elementos de géneros como el reguetón, la música latinoamericana y el hip-hop. La banda forma parte de la nueva ola de artistas ecuatorianos la cual se ha desarrollado durante la década del 2010. \\nActualmente se localiza en Colombia, país desde el cual continúan desarrollando su propuesta artística sin dejar de lado en ningún momento sus orígenes ecuatorianos, se mantienen activos en temas políticos e incluyen en su musica elementos tradicionales de su cultura de origen, realizando a su vez un importante trabajo de rescate y popularización de la tradición ecuatoriana.', 'title': 'Lolabúm'}, page_content='Lolabúm es una banda de rock ecuatoriano formada en Quito a mediados del 2014. Está conformada actualmente por el cantante y multinstrumentista Pedro Bonfim, el bajista Martín Erazo, el guitarrista Joaquín Prado y el baterista José Miguel Fabre.  La banda entró a la escena musical ecuatoriana en 2015 con varios conciertos en diferentes ciudades de Ecuador. En 2016 lanzaron su primer álbum de estudio El Cielo con el cual exploraron un sonido de rock y rock alternativo con una producción similar al lo-fi. En julio de 2018, la banda sacó su segundo álbum Tristes Trópicos, con letras de mayor profundidad y sonidos diversos tomando elementos de géneros como el reguetón, la música latinoamericana y el hip-hop. La banda forma parte de la nueva ola de artistas ecuatorianos la cual se ha desarrollado durante la década del 2010. \\nActualmente se localiza en Colombia, país desde el cual continúan desarrollando su propuesta artística sin dejar de lado en ningún momento sus orígenes ecuatorianos, se mantienen activos en temas políticos e incluyen en su musica elementos tradicionales de su cultura de origen, realizando a su vez un importante trabajo de rescate y popularización de la tradición ecuatoriana.'),\n",
       " Document(metadata={'id': '4863f3b8-a8c8-4148-8966-8025f7266154', 'source': 'https://es.wikipedia.org/wiki/Tristes_tr%C3%B3picos_(%C3%A1lbum)', 'summary': 'Tristes trópicos es el segundo álbum de la banda ecuatoriana Lolabúm, conformada por Pedro Bonfim, Martín Erazo, José Miguel Fabre y Joaquín Prado. Fue anunciado el 11 de enero de 2018 por medio de su cuenta oficial en Instagram, y publicado el 13 de julio de 2018 con un total de 15 canciones. Después de su lanzamiento la banda realizó una gira de presentación del disco por 8 ciudades del Ecuador (Portoviejo, Riobamba, Loja, Cuenca, Quito, Puyo, Guayaquil y Latacunga) y en mayo de 2019 se realizarían una gira por 8 ciudades de Colombia, entre ellas Bogotá, Medellín, Cali, Ibagué, Armenia, Manizales, Popayán y Pasto.', 'title': 'Tristes trópicos (álbum)'}, page_content='== Alcance a nivel nacional ==\\nLa acogida del disco se hizo visible en redes sociales desde antes que se publicara el álbum oficialmente gracias a las filtraciones que hacían los propios integrantes de la banda y personas allegadas a ellos y al proyecto, como Lucca Bocci y Felipe Lizarzaburu de La Máquina Camaleón, que compartieron fragmentos de las canciones como parte de la promoción del disco en los primeros días de su lanzamiento, llegando a ser uno de los 50 más escuchados en Ecuador en Spotify Latinoamérica a escasas horas después de su lanzamiento. PoliMusic  es su casa discográfica, siendo esta, sello discográfico de otros a'),\n",
       " Document(metadata={'id': '4d454b2f-1436-407e-bc44-0f7aafb5d467', 'source': 'https://es.wikipedia.org/wiki/Lolab%C3%BAm', 'summary': 'Lolabúm es una banda de rock ecuatoriano formada en Quito a mediados del 2014. Está conformada actualmente por el cantante y multinstrumentista Pedro Bonfim, el bajista Martín Erazo, el guitarrista Joaquín Prado y el baterista José Miguel Fabre.  La banda entró a la escena musical ecuatoriana en 2015 con varios conciertos en diferentes ciudades de Ecuador. En 2016 lanzaron su primer álbum de estudio El Cielo con el cual exploraron un sonido de rock y rock alternativo con una producción similar al lo-fi. En julio de 2018, la banda sacó su segundo álbum Tristes Trópicos, con letras de mayor profundidad y sonidos diversos tomando elementos de géneros como el reguetón, la música latinoamericana y el hip-hop. La banda forma parte de la nueva ola de artistas ecuatorianos la cual se ha desarrollado durante la década del 2010. \\nActualmente se localiza en Colombia, país desde el cual continúan desarrollando su propuesta artística sin dejar de lado en ningún momento sus orígenes ecuatorianos, se mantienen activos en temas políticos e incluyen en su musica elementos tradicionales de su cultura de origen, realizando a su vez un importante trabajo de rescate y popularización de la tradición ecuatoriana.', 'title': 'Lolabúm'}, page_content='== Origen (2014) ==\\nLolabúm es la creación del cantante y guitarrista quiteño Pedro Bonfim, inspirado en el ambiente musical en el cual vivió debido a la cercanía de sus padres con la música.[1]\\u200b La alineación de la banda varió en sus inicios, con miembros como Michaela Garay en la batería y Estevan Ricaurte en la guitarra[2]\\u200b quienes salieron de la banda debido a factores externos. La banda comenzó su carrera sacando sencillos como Que asco de Sábado y Animales mal disecados, ambas canciones especialmente energéticas y que fueron recibidas positivamente en la escena musical ecuatoriana. Fue en este período en el que tuvieron sus primeras presentaciones como el Festival la Cochera de Ibarra o como teloneros el conciertos como el de la banda colombiana Monsieur Periné.[3]\\u200b\\n\\n\\n== Música =='),\n",
       " Document(metadata={'id': '110e48cd-ffc6-45ea-a505-50631ead48f7', 'source': 'https://es.wikipedia.org/wiki/Tristes_tr%C3%B3picos_(%C3%A1lbum)', 'summary': 'Tristes trópicos es el segundo álbum de la banda ecuatoriana Lolabúm, conformada por Pedro Bonfim, Martín Erazo, José Miguel Fabre y Joaquín Prado. Fue anunciado el 11 de enero de 2018 por medio de su cuenta oficial en Instagram, y publicado el 13 de julio de 2018 con un total de 15 canciones. Después de su lanzamiento la banda realizó una gira de presentación del disco por 8 ciudades del Ecuador (Portoviejo, Riobamba, Loja, Cuenca, Quito, Puyo, Guayaquil y Latacunga) y en mayo de 2019 se realizarían una gira por 8 ciudades de Colombia, entre ellas Bogotá, Medellín, Cali, Ibagué, Armenia, Manizales, Popayán y Pasto.', 'title': 'Tristes trópicos (álbum)'}, page_content='== Título del álbum ==\\nTristes trópicos es un oxímoron, es decir una contradicción metafórica utilizada frecuentemente en poesía amorosa y mística.  Llamado así por el libro del mismo nombre del autor francés Claude Levi-Strauss, donde documenta sus viajes y trabajo antropológico, además de impregnar reflexiones filosóficas e ideas que vinculan a muchas disciplinas académicas, como la sociología, la geología, la música, la historia y la literatura.\\n[1]\\u200b\\n[2]\\u200b\\n\\n\\n== Concepto ==\\nLolabúm es una banda con influencias del indie pop, indie rock y noise pop. Su segundo álbum es producto de una serie de vivencias de los integrantes de la banda, principalmente, la mudanza del vocalista y guitarrista de la banda (Pedro Bonfim) a Guayaquil, para estudiar literatura en la Universidad de las Artes. \\nMusicalmente el álbum está compuesto por letras de Bonfim y pistas hechas en un sampler, acompañado de otros instrumentos: la guitarra de Joaquín Prado, el bajo de Martín Erazo y la batería de “Jim” Fabre. Las 15 canciones que forman el disco se centran en temas como el miedo, los acontecimientos diarios y la soledad. Además, Bonfim hace uso de la jerga urbana, juegos de palabras, metáforas literarias y personales, entre otros recursos en sus letras.[1]\\u200b Inclusive una de las canciones de este álbum juega con un trabalenguas  común y distintivo del español:')]"
      ]
     },
     "execution_count": 25,
     "metadata": {},
     "output_type": "execute_result"
    }
   ],
   "source": [
    "docs"
   ]
  },
  {
   "cell_type": "code",
   "execution_count": 26,
   "id": "c0ca235d-0e0b-4139-a97b-8c52a9c3efd5",
   "metadata": {},
   "outputs": [
    {
     "data": {
      "text/plain": [
       "'La banda Lolabúm ha tocado en diferentes ciudades de Ecuador desde su ingreso a la escena musical en 2015, como: Quito, Ibarra, y también ha sido teloneros en conciertos como el de la banda colombiana Monsieur Periné. No se proporciona una lista exhaustiva de todas las ciudades y años en los que han tocado.'"
      ]
     },
     "execution_count": 26,
     "metadata": {},
     "output_type": "execute_result"
    }
   ],
   "source": [
    "chain.run(input_documents=docs,question=question)"
   ]
  },
  {
   "cell_type": "markdown",
   "id": "b90b5824-b837-4e22-8b5b-0dbac7997278",
   "metadata": {},
   "source": [
    "# Alternativa con método invoke"
   ]
  },
  {
   "cell_type": "code",
   "execution_count": 27,
   "id": "718b23f6-393d-4e19-8b9e-6b0678a569fd",
   "metadata": {},
   "outputs": [],
   "source": [
    "input={\n",
    "    \"input_documents\":docs,\n",
    "    \"question\":question\n",
    "}"
   ]
  },
  {
   "cell_type": "code",
   "execution_count": 28,
   "id": "faccfd15-2a19-408b-b437-1029db1e7982",
   "metadata": {},
   "outputs": [
    {
     "data": {
      "text/plain": [
       "'Lolabúm ha tocado en diferentes ciudades de Ecuador a lo largo de su carrera musical, incluyendo conciertos en Ibarra y en conciertos como teloneros de bandas como Monsieur Periné. Sin embargo, el texto no especifica las ciudades exactas ni los años específicos en los que la banda ha tocado.'"
      ]
     },
     "execution_count": 28,
     "metadata": {},
     "output_type": "execute_result"
    }
   ],
   "source": [
    "chain.invoke(input)['output_text']"
   ]
  },
  {
   "cell_type": "code",
   "execution_count": null,
   "id": "e9bd85d2-3c95-4a08-b8d7-410cada79ddc",
   "metadata": {},
   "outputs": [],
   "source": []
  }
 ],
 "metadata": {
  "kernelspec": {
   "display_name": "Python 3 (ipykernel)",
   "language": "python",
   "name": "python3"
  },
  "language_info": {
   "codemirror_mode": {
    "name": "ipython",
    "version": 3
   },
   "file_extension": ".py",
   "mimetype": "text/x-python",
   "name": "python",
   "nbconvert_exporter": "python",
   "pygments_lexer": "ipython3",
   "version": "3.11.11"
  }
 },
 "nbformat": 4,
 "nbformat_minor": 5
}
