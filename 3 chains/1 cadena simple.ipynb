{
 "cells": [
  {
   "cell_type": "code",
   "execution_count": 2,
   "id": "ff5ee64a-198e-4de0-8c4d-8507db1dcc89",
   "metadata": {},
   "outputs": [],
   "source": [
    "from langchain.prompts import PromptTemplate,SystemMessagePromptTemplate,ChatPromptTemplate,HumanMessagePromptTemplate\n",
    "from langchain_openai import ChatOpenAI\n",
    "f=open('../openai_api_key.txt')\n",
    "api_key=f.read()\n",
    "chat=ChatOpenAI(openai_api_key=api_key)"
   ]
  },
  {
   "cell_type": "markdown",
   "id": "5e7f3ed0-6594-424c-80c4-c49aca0593b7",
   "metadata": {},
   "source": [
    "# Creación objeto LLMChain"
   ]
  },
  {
   "cell_type": "code",
   "execution_count": 3,
   "id": "9250a484-aba0-4a74-bcb5-a6eb7cf322c6",
   "metadata": {},
   "outputs": [],
   "source": [
    "human_message_prompt=HumanMessagePromptTemplate.from_template(\n",
    "    \"Dame un nombre de compañía que sea simpático para una compañía que fabrique {producto}\"\n",
    ")"
   ]
  },
  {
   "cell_type": "code",
   "execution_count": 4,
   "id": "990eb8dd-8e00-4272-942a-8b38d6fcb47e",
   "metadata": {},
   "outputs": [],
   "source": [
    "chat_prompt_template=ChatPromptTemplate.from_messages([human_message_prompt])"
   ]
  },
  {
   "cell_type": "code",
   "execution_count": 6,
   "id": "5be79ca3-4021-4dff-88f1-a95444c891dd",
   "metadata": {},
   "outputs": [],
   "source": [
    "from langchain.chains import LLMChain\n",
    "chain=LLMChain(\n",
    "    llm=chat,\n",
    "    prompt=chat_prompt_template\n",
    ")"
   ]
  },
  {
   "cell_type": "code",
   "execution_count": 7,
   "id": "b0ab20e9-177d-47f8-b436-3562f9ce5715",
   "metadata": {},
   "outputs": [
    {
     "name": "stdout",
     "output_type": "stream",
     "text": [
      "{'producto': 'lavadoras', 'text': '\"Lavatronic\"'}\n"
     ]
    }
   ],
   "source": [
    "print(chain.invoke(input=\"lavadoras\"))"
   ]
  },
  {
   "cell_type": "markdown",
   "id": "9b31daf0-01c6-437e-9613-1d25abfc9451",
   "metadata": {},
   "source": [
    "# Cadena secuencia simple"
   ]
  },
  {
   "cell_type": "code",
   "execution_count": 8,
   "id": "69929e2a-e01c-4a65-be4b-fd2613634c42",
   "metadata": {},
   "outputs": [],
   "source": [
    "from langchain.chains.sequential import SimpleSequentialChain"
   ]
  },
  {
   "cell_type": "code",
   "execution_count": 11,
   "id": "df4ec0a1-a792-4a92-8dec-5aac76dba287",
   "metadata": {},
   "outputs": [],
   "source": [
    "llm=ChatOpenAI(openai_api_key=api_key)"
   ]
  },
  {
   "cell_type": "code",
   "execution_count": 12,
   "id": "2d38fb60-6b81-49e4-a982-bd526183d74b",
   "metadata": {},
   "outputs": [],
   "source": [
    "template=\"Dame un simple resumen con un listado de puntos para un post de un blog acerca de {tema}\""
   ]
  },
  {
   "cell_type": "code",
   "execution_count": 14,
   "id": "110172ae-94ed-4667-8e4d-52fc4d2aeb70",
   "metadata": {},
   "outputs": [],
   "source": [
    "prompt1=ChatPromptTemplate.from_template(template)\n",
    "chain_1=LLMChain(\n",
    "    llm=llm,\n",
    "    prompt=prompt1\n",
    ")"
   ]
  },
  {
   "cell_type": "code",
   "execution_count": 16,
   "id": "9f9e7b41-99f9-4d9d-a1a9-9c607018c7bd",
   "metadata": {},
   "outputs": [],
   "source": [
    "template=\"Escribe un post completo usando este resumen: {resumen}\"\n",
    "prompt2=ChatPromptTemplate.from_template(template)\n",
    "chain_2=LLMChain(\n",
    "    llm=llm,\n",
    "    prompt=prompt2\n",
    ")"
   ]
  },
  {
   "cell_type": "code",
   "execution_count": 17,
   "id": "79df618e-7a2b-435c-8b9a-dfdc883a0b2b",
   "metadata": {},
   "outputs": [],
   "source": [
    "full_chain=SimpleSequentialChain(chains=[chain_1,chain_2],verbose=True)"
   ]
  },
  {
   "cell_type": "code",
   "execution_count": 20,
   "id": "a5f9387c-75c4-45cc-8775-98fed752c297",
   "metadata": {},
   "outputs": [
    {
     "name": "stdout",
     "output_type": "stream",
     "text": [
      "\n",
      "\n",
      "\u001b[1m> Entering new SimpleSequentialChain chain...\u001b[0m\n",
      "\u001b[36;1m\u001b[1;3m1. Introducción sobre el caso de los Hermanos Restrepo, dos hermanos ecuatorianos que desaparecieron misteriosamente en 1988.\n",
      "2. Breve descripción de los hechos: los hermanos salieron de su casa un día y nunca regresaron.\n",
      "3. Menciona las investigaciones que se realizaron en el caso y los posibles sospechosos.\n",
      "4. Explica la repercusión que tuvo la desaparición en la sociedad ecuatoriana.\n",
      "5. Analiza las teorías que se manejan sobre el paradero de los hermanos Restrepo.\n",
      "6. Reflexiona sobre la importancia de recordar casos como este para mantener viva la memoria de las víctimas de desapariciones.\n",
      "7. Concluye con un llamado a la justicia y a seguir investigando para resolver el caso de los Hermanos Restrepo.\u001b[0m\n",
      "\u001b[33;1m\u001b[1;3mEn 1988, el misterioso caso de los Hermanos Restrepo conmocionó a la sociedad ecuatoriana. Dos hermanos, Santiago y Andrés Restrepo, salieron de su casa un día para nunca más regresar. A pesar de las intensas investigaciones realizadas, hasta el día de hoy sigue sin conocerse el paradero de los hermanos.\n",
      "\n",
      "Las autoridades llevaron a cabo diversas investigaciones, sin embargo, no se logró determinar qué fue lo que ocurrió con los hermanos. Se señaló a varios sospechosos, sin embargo, no se obtuvo evidencia suficiente para poder acusar a alguien con certeza.\n",
      "\n",
      "La desaparición de los Hermanos Restrepo tuvo un gran impacto en la sociedad ecuatoriana, generando miedo y desconcierto entre la población. La incertidumbre de no saber qué les sucedió a los hermanos dejó una herida abierta en la comunidad que aún perdura.\n",
      "\n",
      "Se manejan diversas teorías sobre el paradero de los hermanos Restrepo, desde un secuestro por motivos económicos hasta un posible involucramiento en actividades delictivas. Sin embargo, ninguna teoría ha sido corroborada hasta el momento.\n",
      "\n",
      "Es crucial recordar casos como el de los Hermanos Restrepo para mantener viva la memoria de las víctimas de desapariciones y continuar exigiendo justicia. Es necesario seguir investigando y presionar a las autoridades para que no se olvide este caso y se logre resolver, para darle paz a la familia Restrepo y para que se haga justicia.\n",
      "\n",
      "En conclusión, hago un llamado a la justicia y a mantener viva la memoria de los Hermanos Restrepo. Es importante no olvidar su caso y seguir exigiendo respuestas para que su desaparición no quede impune. Los Hermanos Restrepo merecen justicia y es responsabilidad de todos colaborar para lograrla.\u001b[0m\n",
      "\n",
      "\u001b[1m> Finished chain.\u001b[0m\n"
     ]
    }
   ],
   "source": [
    "result=full_chain.invoke(input=\"Desaparición de los Hermanos Restrepo, Ecuador.\")"
   ]
  },
  {
   "cell_type": "code",
   "execution_count": 23,
   "id": "d50613ad-d684-4ed1-ab84-3cb7c3aeb824",
   "metadata": {},
   "outputs": [
    {
     "name": "stdout",
     "output_type": "stream",
     "text": [
      "En 1988, el misterioso caso de los Hermanos Restrepo conmocionó a la sociedad ecuatoriana. Dos hermanos, Santiago y Andrés Restrepo, salieron de su casa un día para nunca más regresar. A pesar de las intensas investigaciones realizadas, hasta el día de hoy sigue sin conocerse el paradero de los hermanos.\n",
      "\n",
      "Las autoridades llevaron a cabo diversas investigaciones, sin embargo, no se logró determinar qué fue lo que ocurrió con los hermanos. Se señaló a varios sospechosos, sin embargo, no se obtuvo evidencia suficiente para poder acusar a alguien con certeza.\n",
      "\n",
      "La desaparición de los Hermanos Restrepo tuvo un gran impacto en la sociedad ecuatoriana, generando miedo y desconcierto entre la población. La incertidumbre de no saber qué les sucedió a los hermanos dejó una herida abierta en la comunidad que aún perdura.\n",
      "\n",
      "Se manejan diversas teorías sobre el paradero de los hermanos Restrepo, desde un secuestro por motivos económicos hasta un posible involucramiento en actividades delictivas. Sin embargo, ninguna teoría ha sido corroborada hasta el momento.\n",
      "\n",
      "Es crucial recordar casos como el de los Hermanos Restrepo para mantener viva la memoria de las víctimas de desapariciones y continuar exigiendo justicia. Es necesario seguir investigando y presionar a las autoridades para que no se olvide este caso y se logre resolver, para darle paz a la familia Restrepo y para que se haga justicia.\n",
      "\n",
      "En conclusión, hago un llamado a la justicia y a mantener viva la memoria de los Hermanos Restrepo. Es importante no olvidar su caso y seguir exigiendo respuestas para que su desaparición no quede impune. Los Hermanos Restrepo merecen justicia y es responsabilidad de todos colaborar para lograrla.\n"
     ]
    }
   ],
   "source": [
    "print(result['output'])"
   ]
  }
 ],
 "metadata": {
  "kernelspec": {
   "display_name": "Python 3 (ipykernel)",
   "language": "python",
   "name": "python3"
  },
  "language_info": {
   "codemirror_mode": {
    "name": "ipython",
    "version": 3
   },
   "file_extension": ".py",
   "mimetype": "text/x-python",
   "name": "python",
   "nbconvert_exporter": "python",
   "pygments_lexer": "ipython3",
   "version": "3.11.11"
  }
 },
 "nbformat": 4,
 "nbformat_minor": 5
}
