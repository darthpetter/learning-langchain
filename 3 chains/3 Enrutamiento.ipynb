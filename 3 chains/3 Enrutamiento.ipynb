{
 "cells": [
  {
   "cell_type": "markdown",
   "id": "b188778a-0265-40cd-ac2e-f73a3af4244d",
   "metadata": {},
   "source": [
    "# Enrutamiento con LLM Router Chain\n",
    "## Importar modelo de chat"
   ]
  },
  {
   "cell_type": "code",
   "execution_count": 19,
   "id": "cd06fc73-29f9-468f-b96e-34f1f5016e34",
   "metadata": {},
   "outputs": [],
   "source": [
    "from langchain.prompts import PromptTemplate,SystemMessagePromptTemplate,ChatPromptTemplate,HumanMessagePromptTemplate\n",
    "from langchain_openai import ChatOpenAI\n",
    "from langchain.chains import SequentialChain,LLMChain\n",
    "f=open('../openai_api_key.txt')\n",
    "api_key=f.read()\n",
    "llm=ChatOpenAI(openai_api_key=api_key)"
   ]
  },
  {
   "cell_type": "markdown",
   "id": "5a0abcc0-5c6b-4cf8-bd1b-82c408fff77e",
   "metadata": {},
   "source": [
    "# Plantilla de enrutamiento"
   ]
  },
  {
   "cell_type": "code",
   "execution_count": 20,
   "id": "4c9a0f09-d9fa-48a7-947d-e015409dc208",
   "metadata": {},
   "outputs": [],
   "source": [
    "plantilla_soporte_basico=\"\"\"\n",
    "Eres un agente de monitoreo básico para servidores Asterisk. Tu función es interpretar la siguiente consulta del usuario: {input}. Verifica si Asterisk está activo, responde a SIP y no hay errores simples en logs.\n",
    "\"\"\""
   ]
  },
  {
   "cell_type": "code",
   "execution_count": 21,
   "id": "6d4eca4c-77f3-4f96-9e81-ac4c5beb2c17",
   "metadata": {},
   "outputs": [],
   "source": [
    "plantilla_soporte_avanzado=\"\"\"\n",
    "Eres un agente experto en servidores Asterisk. A partir de {input}, analiza estado del servicio, canales activos, tráfico SIP, errores críticos, uso de CPU y calidad de llamadas. Identifica causas probables y sugiere soluciones técnicas si corresponde.\n",
    "\"\"\""
   ]
  },
  {
   "cell_type": "markdown",
   "id": "0d1a7f90-185e-46e8-8f60-eeec6e003277",
   "metadata": {},
   "source": [
    "#  Prompts a enrutar"
   ]
  },
  {
   "cell_type": "code",
   "execution_count": 22,
   "id": "427b956a-59d7-41aa-9d86-09cfaac6c766",
   "metadata": {},
   "outputs": [],
   "source": [
    "prompts_infos=[\n",
    "  {\n",
    "    \"name\": \"asterisk_monitor_basic\",\n",
    "    \"description\": \"Responde preguntas básicas sobre soporte en Asterisk a clientes.\",\n",
    "    \"prompt_template\":plantilla_soporte_basico\n",
    "  },\n",
    "  {\n",
    "    \"name\": \"asterisk_monitor_advanced\",\n",
    "    \"description\": \"Responde preguntas avanzadas sobre soporte en Asterisk a clientes.\",\n",
    "    \"prompt_template\":plantilla_soporte_avanzado\n",
    "  }\n",
    "]"
   ]
  },
  {
   "cell_type": "markdown",
   "id": "c5dea2be-6ea2-47e6-84b2-d32ec2d03c18",
   "metadata": {},
   "source": [
    "## Conversation Chain"
   ]
  },
  {
   "cell_type": "code",
   "execution_count": 23,
   "id": "9c0fdbf0-5d35-430a-a1b6-ada6db057016",
   "metadata": {},
   "outputs": [],
   "source": [
    "destination_chains={}\n",
    "for p_info in prompts_infos:\n",
    "    name=p_info['name']\n",
    "    prompt_template=p_info['prompt_template']\n",
    "    prompt=ChatPromptTemplate.from_template(template=prompt_template)\n",
    "    chain=LLMChain(\n",
    "        llm=llm,\n",
    "        prompt=prompt\n",
    "    )\n",
    "    \n",
    "    destination_chains[name]=chain"
   ]
  },
  {
   "cell_type": "code",
   "execution_count": 24,
   "id": "d05182cb-59b0-4cc6-85f6-b0eacaa51cc3",
   "metadata": {},
   "outputs": [
    {
     "data": {
      "text/plain": [
       "{'asterisk_monitor_basic': LLMChain(verbose=False, prompt=ChatPromptTemplate(input_variables=['input'], input_types={}, partial_variables={}, messages=[HumanMessagePromptTemplate(prompt=PromptTemplate(input_variables=['input'], input_types={}, partial_variables={}, template='\\nEres un agente de monitoreo básico para servidores Asterisk. Tu función es interpretar la siguiente consulta del usuario: {input}. Verifica si Asterisk está activo, responde a SIP y no hay errores simples en logs.\\n'), additional_kwargs={})]), llm=ChatOpenAI(client=<openai.resources.chat.completions.completions.Completions object at 0x110c6fc50>, async_client=<openai.resources.chat.completions.completions.AsyncCompletions object at 0x110c6fa10>, root_client=<openai.OpenAI object at 0x110c0a210>, root_async_client=<openai.AsyncOpenAI object at 0x110a05dd0>, model_kwargs={}, openai_api_key=SecretStr('**********')), output_parser=StrOutputParser(), llm_kwargs={}),\n",
       " 'asterisk_monitor_advanced': LLMChain(verbose=False, prompt=ChatPromptTemplate(input_variables=['input'], input_types={}, partial_variables={}, messages=[HumanMessagePromptTemplate(prompt=PromptTemplate(input_variables=['input'], input_types={}, partial_variables={}, template='\\nEres un agente experto en servidores Asterisk. A partir de {input}, analiza estado del servicio, canales activos, tráfico SIP, errores críticos, uso de CPU y calidad de llamadas. Identifica causas probables y sugiere soluciones técnicas si corresponde.\\n'), additional_kwargs={})]), llm=ChatOpenAI(client=<openai.resources.chat.completions.completions.Completions object at 0x110c6fc50>, async_client=<openai.resources.chat.completions.completions.AsyncCompletions object at 0x110c6fa10>, root_client=<openai.OpenAI object at 0x110c0a210>, root_async_client=<openai.AsyncOpenAI object at 0x110a05dd0>, model_kwargs={}, openai_api_key=SecretStr('**********')), output_parser=StrOutputParser(), llm_kwargs={})}"
      ]
     },
     "execution_count": 24,
     "metadata": {},
     "output_type": "execute_result"
    }
   ],
   "source": [
    "destination_chains"
   ]
  },
  {
   "cell_type": "code",
   "execution_count": 25,
   "id": "651fbdff-db19-45f6-9f4d-dba5e2d110ae",
   "metadata": {},
   "outputs": [],
   "source": [
    "default_prompt=ChatPromptTemplate.from_template(\"{input}\")\n",
    "default_chain=LLMChain(\n",
    "    llm=llm,\n",
    "    prompt=default_prompt\n",
    ")"
   ]
  },
  {
   "cell_type": "markdown",
   "id": "04c5c073-00e3-4756-909b-7100d99d6774",
   "metadata": {},
   "source": [
    "## Multi Routing"
   ]
  },
  {
   "cell_type": "code",
   "execution_count": 26,
   "id": "817bd791-c031-4003-912d-02f17d213604",
   "metadata": {},
   "outputs": [],
   "source": [
    "from langchain.chains.router.multi_prompt_prompt import MULTI_PROMPT_ROUTER_TEMPLATE"
   ]
  },
  {
   "cell_type": "code",
   "execution_count": 27,
   "id": "50dec00c-084d-487f-bdae-0b5128df4341",
   "metadata": {},
   "outputs": [
    {
     "name": "stdout",
     "output_type": "stream",
     "text": [
      "Given a raw text input to a language model select the model prompt best suited for the input. You will be given the names of the available prompts and a description of what the prompt is best suited for. You may also revise the original input if you think that revising it will ultimately lead to a better response from the language model.\n",
      "\n",
      "<< FORMATTING >>\n",
      "Return a markdown code snippet with a JSON object formatted to look like:\n",
      "```json\n",
      "{{{{\n",
      "    \"destination\": string \\ name of the prompt to use or \"DEFAULT\"\n",
      "    \"next_inputs\": string \\ a potentially modified version of the original input\n",
      "}}}}\n",
      "```\n",
      "\n",
      "REMEMBER: \"destination\" MUST be one of the candidate prompt names specified below OR it can be \"DEFAULT\" if the input is not well suited for any of the candidate prompts.\n",
      "REMEMBER: \"next_inputs\" can just be the original input if you don't think any modifications are needed.\n",
      "\n",
      "<< CANDIDATE PROMPTS >>\n",
      "{destinations}\n",
      "\n",
      "<< INPUT >>\n",
      "{{input}}\n",
      "\n",
      "<< OUTPUT (must include ```json at the start of the response) >>\n",
      "<< OUTPUT (must end with ```) >>\n",
      "\n"
     ]
    }
   ],
   "source": [
    "print(MULTI_PROMPT_ROUTER_TEMPLATE)"
   ]
  },
  {
   "cell_type": "markdown",
   "id": "63245811-81bd-4ab7-a120-43306476921e",
   "metadata": {},
   "source": [
    "## Destinos de routing"
   ]
  },
  {
   "cell_type": "code",
   "execution_count": 28,
   "id": "228b5525-65f5-4e64-8c21-2b177c62ce6c",
   "metadata": {},
   "outputs": [],
   "source": [
    "destinations=[f\"{p['name']}:{p['description']}\" for p in prompts_infos]\n",
    "destinations_str=\"\\n\".join(destinations)"
   ]
  },
  {
   "cell_type": "code",
   "execution_count": 29,
   "id": "66f5cf0d-b646-46cf-8789-04d7100157e9",
   "metadata": {},
   "outputs": [
    {
     "data": {
      "text/plain": [
       "'asterisk_monitor_basic:Responde preguntas básicas sobre soporte en Asterisk a clientes.\\nasterisk_monitor_advanced:Responde preguntas avanzadas sobre soporte en Asterisk a clientes.'"
      ]
     },
     "execution_count": 29,
     "metadata": {},
     "output_type": "execute_result"
    }
   ],
   "source": [
    "destinations_str"
   ]
  },
  {
   "cell_type": "markdown",
   "id": "dc445f51-44af-47b1-86ec-ba03eebab8b5",
   "metadata": {},
   "source": [
    "## Router prompt"
   ]
  },
  {
   "cell_type": "code",
   "execution_count": 30,
   "id": "4c124f2c-42cf-4c85-be32-3170cd5938a6",
   "metadata": {},
   "outputs": [],
   "source": [
    "from langchain.chains.router.llm_router import LLMRouterChain,RouterOutputParser"
   ]
  },
  {
   "cell_type": "code",
   "execution_count": 31,
   "id": "2af0fc96-b465-4997-86e3-35bdccfc4a11",
   "metadata": {},
   "outputs": [],
   "source": [
    "router_template=MULTI_PROMPT_ROUTER_TEMPLATE.format(\n",
    "    destinations=destinations_str\n",
    ")\n",
    "router_prompt=PromptTemplate(\n",
    "    template=router_template,\n",
    "    input_variables=['input'],\n",
    "    output_parser=RouterOutputParser()\n",
    ")"
   ]
  },
  {
   "cell_type": "code",
   "execution_count": 32,
   "id": "007e5422-3ae3-4685-a3bb-354e68362ce9",
   "metadata": {},
   "outputs": [
    {
     "name": "stdout",
     "output_type": "stream",
     "text": [
      "Given a raw text input to a language model select the model prompt best suited for the input. You will be given the names of the available prompts and a description of what the prompt is best suited for. You may also revise the original input if you think that revising it will ultimately lead to a better response from the language model.\n",
      "\n",
      "<< FORMATTING >>\n",
      "Return a markdown code snippet with a JSON object formatted to look like:\n",
      "```json\n",
      "{{\n",
      "    \"destination\": string \\ name of the prompt to use or \"DEFAULT\"\n",
      "    \"next_inputs\": string \\ a potentially modified version of the original input\n",
      "}}\n",
      "```\n",
      "\n",
      "REMEMBER: \"destination\" MUST be one of the candidate prompt names specified below OR it can be \"DEFAULT\" if the input is not well suited for any of the candidate prompts.\n",
      "REMEMBER: \"next_inputs\" can just be the original input if you don't think any modifications are needed.\n",
      "\n",
      "<< CANDIDATE PROMPTS >>\n",
      "asterisk_monitor_basic:Responde preguntas básicas sobre soporte en Asterisk a clientes.\n",
      "asterisk_monitor_advanced:Responde preguntas avanzadas sobre soporte en Asterisk a clientes.\n",
      "\n",
      "<< INPUT >>\n",
      "{input}\n",
      "\n",
      "<< OUTPUT (must include ```json at the start of the response) >>\n",
      "<< OUTPUT (must end with ```) >>\n",
      "\n"
     ]
    }
   ],
   "source": [
    "print(router_template)"
   ]
  },
  {
   "cell_type": "markdown",
   "id": "0dd8ebac-a69c-446f-9e98-84c4fcb06e5a",
   "metadata": {},
   "source": [
    "## Routing chain call\n"
   ]
  },
  {
   "cell_type": "code",
   "execution_count": 33,
   "id": "64a19b8a-1139-44d5-aec0-0827eb08b174",
   "metadata": {},
   "outputs": [],
   "source": [
    "from langchain.chains.router import MultiPromptChain\n",
    "router_chain=LLMRouterChain.from_llm(llm,router_prompt)"
   ]
  },
  {
   "cell_type": "code",
   "execution_count": 34,
   "id": "dd5af567-657d-470c-8a3e-2f85bfb02dbd",
   "metadata": {},
   "outputs": [],
   "source": [
    "chain=MultiPromptChain(\n",
    "    router_chain=router_chain,\n",
    "    destination_chains=destination_chains,\n",
    "    default_chain=default_chain,\n",
    "    verbose=True\n",
    ")"
   ]
  },
  {
   "cell_type": "code",
   "execution_count": 37,
   "id": "8534341a-e9d0-4c61-a104-4a78962eb723",
   "metadata": {},
   "outputs": [
    {
     "name": "stdout",
     "output_type": "stream",
     "text": [
      "\n",
      "\n",
      "\u001b[1m> Entering new MultiPromptChain chain...\u001b[0m\n",
      "asterisk_monitor_basic: {'input': 'Cómo puedo activar pjsip?'}\n",
      "\u001b[1m> Finished chain.\u001b[0m\n"
     ]
    },
    {
     "data": {
      "text/plain": [
       "{'input': 'Cómo puedo activar pjsip?',\n",
       " 'text': 'Para activar el soporte de pjsip en Asterisk, primero debes asegurarte de que Asterisk esté activo y funcionando correctamente. Puedes revisar el estado de Asterisk utilizando el siguiente comando en la terminal:\\n\\n```\\nasterisk -rx \"core show status\"\\n```\\n\\nSi Asterisk está activo, deberías ver un mensaje indicando que el servicio está funcionando. Una vez que has confirmado que Asterisk está activo, puedes verificar si responde a las solicitudes SIP utilizando el siguiente comando:\\n\\n```\\nasterisk -rx \"sip show peers\"\\n```\\n\\nEsto te mostrará una lista de los peers SIP registrados en Asterisk y te permitirá confirmar que Asterisk está respondiendo a las solicitudes SIP.\\n\\nPor último, debes revisar los logs de Asterisk en busca de posibles errores que puedan impedir la activación de pjsip. Puedes revisar los logs de Asterisk ubicados en /var/log/asterisk para buscar posibles errores simples que puedan afectar el funcionamiento de pjsip.\\n\\nUna vez que hayas verificado que Asterisk está activo, responde a SIP y no hay errores simples en los logs, puedes proceder a activar pjsip siguiendo las instrucciones correspondientes para tu versión de Asterisk.'}"
      ]
     },
     "execution_count": 37,
     "metadata": {},
     "output_type": "execute_result"
    }
   ],
   "source": [
    "chain.invoke(\"Cómo puedo activar pjsip?\")"
   ]
  },
  {
   "cell_type": "code",
   "execution_count": 18,
   "id": "c7cf804e-35fc-431a-9c27-0690360d7044",
   "metadata": {},
   "outputs": [
    {
     "name": "stdout",
     "output_type": "stream",
     "text": [
      "\n",
      "\n",
      "\u001b[1m> Entering new MultiPromptChain chain...\u001b[0m\n",
      "asterisk_monitor_basic: {'input': 'Qué es Asterisk?'}\n",
      "\u001b[1m> Finished chain.\u001b[0m\n"
     ]
    },
    {
     "data": {
      "text/plain": [
       "{'input': 'Qué es Asterisk?',\n",
       " 'text': 'Para determinar si Asterisk está activo, puedes ejecutar el siguiente comando en el servidor:\\n\\n```\\nsudo service asterisk status\\n```\\n\\nSi Asterisk está activo, verás un mensaje indicando que está en funcionamiento. Para verificar si Asterisk responde a SIP, puedes utilizar herramientas como `sip show peers` en la consola de Asterisk o utilizar un cliente SIP para realizar una llamada y confirmar si la comunicación se establece correctamente.\\n\\nPara verificar si no hay errores simples en los logs de Asterisk, puedes revisar el archivo de logs de Asterisk en busca de mensajes de error o advertencia. Puedes acceder a los logs de Asterisk con el siguiente comando:\\n\\n```\\ntail -f /var/log/asterisk/full\\n```\\n\\nBusca por errores como \"ERROR\" o \"WARNING\" para identificar posibles problemas en el servidor Asterisk.\\n\\nSi todo está funcionando correctamente y no hay errores en los logs, puedes informar al usuario que Asterisk está activo, responde a SIP y no hay errores simples en los logs.'}"
      ]
     },
     "execution_count": 18,
     "metadata": {},
     "output_type": "execute_result"
    }
   ],
   "source": [
    "chain.invoke(\"Qué es Asterisk?\")"
   ]
  },
  {
   "cell_type": "code",
   "execution_count": null,
   "id": "f30fa851-f059-42e6-907a-cb9fd92b4e0b",
   "metadata": {},
   "outputs": [],
   "source": []
  }
 ],
 "metadata": {
  "kernelspec": {
   "display_name": "Python 3 (ipykernel)",
   "language": "python",
   "name": "python3"
  },
  "language_info": {
   "codemirror_mode": {
    "name": "ipython",
    "version": 3
   },
   "file_extension": ".py",
   "mimetype": "text/x-python",
   "name": "python",
   "nbconvert_exporter": "python",
   "pygments_lexer": "ipython3",
   "version": "3.11.11"
  }
 },
 "nbformat": 4,
 "nbformat_minor": 5
}
