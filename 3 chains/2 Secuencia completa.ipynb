{
 "cells": [
  {
   "cell_type": "code",
   "execution_count": 6,
   "id": "7fbc6a51-4132-438f-9d7c-de17d2b63a12",
   "metadata": {},
   "outputs": [],
   "source": [
    "# Modelo secuencial completo\n",
    "## Instanciar el chat"
   ]
  },
  {
   "cell_type": "code",
   "execution_count": 7,
   "id": "551bae81-6a15-431f-b38c-386c4c066247",
   "metadata": {},
   "outputs": [],
   "source": [
    "from langchain.prompts import PromptTemplate,SystemMessagePromptTemplate,ChatPromptTemplate,HumanMessagePromptTemplate\n",
    "from langchain_openai import ChatOpenAI\n",
    "from langchain.chains import SequentialChain,LLMChain\n",
    "f=open('../openai_api_key.txt')\n",
    "api_key=f.read()\n",
    "llm=ChatOpenAI(openai_api_key=api_key)"
   ]
  },
  {
   "cell_type": "code",
   "execution_count": 13,
   "id": "90f6bc15-478c-473b-8ba8-667d0adad5ef",
   "metadata": {},
   "outputs": [],
   "source": [
    "template1=\"Dame un resumen del rendimiento de este trabajador:\\n{revision_rendimiento}\"\n",
    "prompt1=ChatPromptTemplate.from_template(template1)\n",
    "chain1=LLMChain(\n",
    "    llm=llm,\n",
    "    prompt=prompt1,\n",
    "    output_key=\"resumen_revision\"\n",
    ")"
   ]
  },
  {
   "cell_type": "code",
   "execution_count": 14,
   "id": "11758a87-f58f-4d05-8dcb-afbfe39eb21c",
   "metadata": {},
   "outputs": [],
   "source": [
    "template2=\"Identifica las debilidades de este trabajador dentro de este resumen de la revisión:\\n{resumen_revision}\"\n",
    "prompt2=ChatPromptTemplate.from_template(template2)\n",
    "chain2=LLMChain(\n",
    "    llm=llm,\n",
    "    prompt=prompt2,\n",
    "    output_key=\"debilidades\"\n",
    ")"
   ]
  },
  {
   "cell_type": "code",
   "execution_count": 15,
   "id": "8f313d24-63d4-43a8-9ab6-a8a9944f1f4c",
   "metadata": {},
   "outputs": [],
   "source": [
    "template3=\"Crea un plan de mejora para ayudar en estas debilidades: \\n{debilidades}\"\n",
    "prompt3=ChatPromptTemplate.from_template(template3)\n",
    "chain3=LLMChain(\n",
    "    llm=llm,\n",
    "    prompt=prompt3,\n",
    "    output_key=\"plan_mejora\"\n",
    ")"
   ]
  },
  {
   "cell_type": "code",
   "execution_count": 16,
   "id": "64756a3b-3d33-4f5b-a140-0593da9e29b9",
   "metadata": {},
   "outputs": [],
   "source": [
    "seq_chain=SequentialChain(\n",
    "    chains=[chain1,chain2,chain3],\n",
    "    input_variables=['revision_rendimiento'],\n",
    "    output_variables=['resumen_revision','debilidades','plan_mejora'],\n",
    "    verbose=True\n",
    ")"
   ]
  },
  {
   "cell_type": "code",
   "execution_count": 17,
   "id": "3235d586-4833-40e5-9b52-30ee3eefae47",
   "metadata": {},
   "outputs": [],
   "source": [
    "revision_rendimiento_empleado=\"\"\"\n",
    "Empleado: Andrea Mena\n",
    "Cargo: Coordinadora de Logística\n",
    "Antigüedad: 2 años y 8 meses\n",
    "\n",
    "Evaluación de Desempeño:\n",
    "Andrea ha demostrado una gestión eficiente de los procesos logísticos durante el último periodo, destacando por su capacidad de organización, puntualidad en la entrega de reportes y liderazgo en la coordinación de equipos interdepartamentales.\n",
    "\n",
    "Fortalezas:\n",
    "- Alta capacidad de planificación y cumplimiento de cronogramas.\n",
    "- Comunicación clara y efectiva con proveedores.\n",
    "- Proactividad para resolver cuellos de botella logísticos.\n",
    "\n",
    "Debilidades:\n",
    "- Delegación: tiende a asumir tareas que podrían ser asignadas a su equipo.\n",
    "- Adaptación tecnológica: se recomienda mejorar el dominio de herramientas avanzadas de gestión como SAP o Power BI.\n",
    "\"\"\""
   ]
  },
  {
   "cell_type": "code",
   "execution_count": 18,
   "id": "43eb5661-6c2e-4752-8917-ca54fcb084e9",
   "metadata": {},
   "outputs": [
    {
     "name": "stdout",
     "output_type": "stream",
     "text": [
      "\n",
      "\n",
      "\u001b[1m> Entering new SequentialChain chain...\u001b[0m\n",
      "\n",
      "\u001b[1m> Finished chain.\u001b[0m\n"
     ]
    }
   ],
   "source": [
    "result=seq_chain.invoke(revision_rendimiento_empleado)"
   ]
  },
  {
   "cell_type": "code",
   "execution_count": 21,
   "id": "d25dbb0c-1c54-49c5-9159-e98d93560577",
   "metadata": {},
   "outputs": [
    {
     "data": {
      "text/plain": [
       "'Plan de mejora:\\n\\n1. Capacitación en habilidades de delegación de tareas: Se propondrá al trabajador asistir a talleres o cursos especializados en gestión del tiempo, liderazgo y delegación de tareas. También se le asignará un mentor o coach que lo acompañe en este proceso y le brinde feedback constructivo.\\n\\n2. Formación en herramientas tecnológicas: Se programarán sesiones de capacitación específicas para que el trabajador mejore su dominio de las herramientas tecnológicas utilizadas en su área de trabajo, como programas de gestión de proyectos, software de productividad o herramientas de comunicación en línea. Además, se le animará a practicar regularmente con estas herramientas y a buscar ayuda o recursos adicionales si es necesario.\\n\\n3. Establecimiento de metas y seguimiento: Se definirán metas claras y medibles para que el trabajador pueda tener objetivos concretos en su proceso de mejora. Se realizarán revisiones periódicas para evaluar su progreso y se le proporcionará apoyo adicional en caso de ser necesario.\\n\\n4. Feedback continuo y refuerzo positivo: Se fomentará una cultura de retroalimentación efectiva en la que el trabajador pueda recibir comentarios constructivos sobre su desempeño y ser reconocido por sus logros. Se destacarán sus avances en la delegación de tareas y el manejo de herramientas tecnológicas para motivarlo a seguir mejorando.\\n\\n5. Creación de un plan de acción personalizado: Se elaborará un plan de acción detallado que contemple las estrategias y acciones específicas a seguir para superar las debilidades identificadas. Este plan se revisará periódicamente y se ajustará según sea necesario para garantizar la efectividad del proceso de mejora.\\n\\nCon este plan de mejora estructurado y enfocado en las necesidades del trabajador, se espera que pueda desarrollar las habilidades de delegación de tareas y dominio de herramientas tecnológicas necesarias para mejorar su desempeño laboral y alcanzar sus objetivos profesionales.'"
      ]
     },
     "execution_count": 21,
     "metadata": {},
     "output_type": "execute_result"
    }
   ],
   "source": [
    "result['plan_mejora']"
   ]
  }
 ],
 "metadata": {
  "kernelspec": {
   "display_name": "Python 3 (ipykernel)",
   "language": "python",
   "name": "python3"
  },
  "language_info": {
   "codemirror_mode": {
    "name": "ipython",
    "version": 3
   },
   "file_extension": ".py",
   "mimetype": "text/x-python",
   "name": "python",
   "nbconvert_exporter": "python",
   "pygments_lexer": "ipython3",
   "version": "3.11.11"
  }
 },
 "nbformat": 4,
 "nbformat_minor": 5
}
