{
 "cells": [
  {
   "cell_type": "markdown",
   "id": "95ea1d0d-6687-4509-990e-ac5fa24135ab",
   "metadata": {},
   "source": [
    "# ChatMessageHistory"
   ]
  },
  {
   "cell_type": "code",
   "execution_count": 3,
   "id": "ff2762a3-4050-41c7-9dd7-763385e121c0",
   "metadata": {},
   "outputs": [],
   "source": [
    "from langchain_ollama import OllamaLLM\n",
    "from langchain.schema import SystemMessage,HumanMessage\n",
    "\n",
    "chat=OllamaLLM(model='deepseek-r1:8b-llama-distill-q8_0')"
   ]
  },
  {
   "cell_type": "code",
   "execution_count": 4,
   "id": "c0eadc83-cc68-4dd4-a24d-70e7e7f7aa64",
   "metadata": {},
   "outputs": [],
   "source": [
    "from langchain.memory import ChatMessageHistory\n",
    "history=ChatMessageHistory()"
   ]
  },
  {
   "cell_type": "code",
   "execution_count": 5,
   "id": "fda6bd71-2124-47f7-88e7-f9476481caef",
   "metadata": {},
   "outputs": [],
   "source": [
    "consulta=\"Hi. How are you?. I need help to configurate my router.\""
   ]
  },
  {
   "cell_type": "code",
   "execution_count": 6,
   "id": "8d62d84a-5000-43ac-bbae-59449c6c7aa3",
   "metadata": {},
   "outputs": [],
   "source": [
    "history.add_user_message(consulta)"
   ]
  },
  {
   "cell_type": "code",
   "execution_count": 7,
   "id": "8a9f30a9-22e0-4d47-927d-3cbaae1fa492",
   "metadata": {},
   "outputs": [],
   "source": [
    "resultado=chat.invoke([HumanMessage(content=consulta)])"
   ]
  },
  {
   "cell_type": "code",
   "execution_count": 11,
   "id": "cf13d8b6-2bab-4fee-92f8-c883875865b7",
   "metadata": {},
   "outputs": [],
   "source": [
    "history.add_ai_message(resultado)"
   ]
  },
  {
   "cell_type": "code",
   "execution_count": 12,
   "id": "df7277eb-fa9a-46fe-a2b2-b1b2c0883d6e",
   "metadata": {},
   "outputs": [
    {
     "data": {
      "text/plain": [
       "InMemoryChatMessageHistory(messages=[HumanMessage(content='Hi. How are you?. I need help to configurate my router.', additional_kwargs={}, response_metadata={}), AIMessage(content='<think>\\nOkay, so the user just asked me about configuring their router and said \"Hi. How are you?\" first. I should respond politely and then address their main request. \\n\\nI remember that routers can vary a lot depending on the brand and model, so it\\'s important to ask for specific details from them. Maybe they don\\'t know how to find those details, so I should guide them on how to check the router\\'s make and model.\\n\\nI\\'ll need to tell them where to look for that information. Usually, it\\'s on a sticker or in the user manual. If they can\\'t find it, suggesting they contact the manufacturer might be helpful.\\n\\nAlso, I should outline the basic steps they might need to take when configuring the router. That includes connecting it properly, setting up an internet connection, and accessing the router\\'s admin panel through a web browser. Maybe I should mention that they might need to use a specific IP address or login details they have on hand.\\n\\nIt\\'s also good to ask if they have any specific issues or problems they\\'re facing. That way, I can provide more targeted help if needed. Keeping my response clear and helpful is key here.\\n</think>\\n\\nHi! I\\'m just here to assist you, so how can I help today? If you need help configuring your router, could you please let me know the make and model of your router? Once you provide that information, I\\'ll be able to give you more specific guidance. Alternatively, if you\\'re encountering any issues or have specific questions about setting it up, feel free to share those details!', additional_kwargs={}, response_metadata={})])"
      ]
     },
     "execution_count": 12,
     "metadata": {},
     "output_type": "execute_result"
    }
   ],
   "source": [
    "history"
   ]
  }
 ],
 "metadata": {
  "kernelspec": {
   "display_name": "Python 3 (ipykernel)",
   "language": "python",
   "name": "python3"
  },
  "language_info": {
   "codemirror_mode": {
    "name": "ipython",
    "version": 3
   },
   "file_extension": ".py",
   "mimetype": "text/x-python",
   "name": "python",
   "nbconvert_exporter": "python",
   "pygments_lexer": "ipython3",
   "version": "3.11.11"
  }
 },
 "nbformat": 4,
 "nbformat_minor": 5
}
