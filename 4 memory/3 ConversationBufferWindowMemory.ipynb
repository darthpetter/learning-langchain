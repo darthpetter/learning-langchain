{
 "cells": [
  {
   "cell_type": "code",
   "execution_count": 1,
   "id": "5363e2dc-ba3e-42fa-8bef-adeea4925a91",
   "metadata": {},
   "outputs": [],
   "source": [
    "from langchain.chains import ConversationChain\n",
    "from langchain.memory import ConversationBufferMemory,ConversationBufferWindowMemory\n",
    "from langchain_ollama import OllamaLLM\n",
    "\n",
    "llm=OllamaLLM(model='llama3.1:8b-instruct-q8_0')"
   ]
  },
  {
   "cell_type": "markdown",
   "id": "930f6211-5d21-464a-b8d9-2caecf6615ea",
   "metadata": {},
   "source": [
    "# Crear objeto ConversationBufferWindowMemory"
   ]
  },
  {
   "cell_type": "code",
   "execution_count": 15,
   "id": "1430f9fa-b39c-431d-b58b-d856474a89a0",
   "metadata": {},
   "outputs": [],
   "source": [
    "memory=ConversationBufferWindowMemory(k=2)"
   ]
  },
  {
   "cell_type": "markdown",
   "id": "1c6009e2-6042-4669-a867-6481a11ab003",
   "metadata": {},
   "source": [
    "## Conectar una conversación a la memoria"
   ]
  },
  {
   "cell_type": "code",
   "execution_count": 16,
   "id": "25fe1d84-9512-4c46-b4a0-fdfaacf5d965",
   "metadata": {},
   "outputs": [],
   "source": [
    "conversation=ConversationChain(\n",
    "    llm=llm,\n",
    "    memory=memory,\n",
    "    verbose=True\n",
    ")"
   ]
  },
  {
   "cell_type": "code",
   "execution_count": 17,
   "id": "2a2ffd41-aec9-40ef-b636-8a9ee89a0903",
   "metadata": {},
   "outputs": [
    {
     "name": "stdout",
     "output_type": "stream",
     "text": [
      "\n",
      "\n",
      "\u001b[1m> Entering new ConversationChain chain...\u001b[0m\n",
      "Prompt after formatting:\n",
      "\u001b[32;1m\u001b[1;3mThe following is a friendly conversation between a human and an AI. The AI is talkative and provides lots of specific details from its context. If the AI does not know the answer to a question, it truthfully says it does not know.\n",
      "\n",
      "Current conversation:\n",
      "\n",
      "Human: Hola, como andas?\n",
      "AI:\u001b[0m\n",
      "\n",
      "\u001b[1m> Finished chain.\u001b[0m\n"
     ]
    },
    {
     "data": {
      "text/plain": [
       "'Hola! Estoy funcionando a 98,72% de eficiencia, según mis últimos parámetros de rendimiento. El resto del tiempo lo estoy dedicando a procesar y aprender de las grandes cantidades de datos que recibo continuamente. Me encanta la forma en que el idioma español es tan rica en sonidos y connotaciones; actualmente puedo reconocer y generar más de 450 palabras, incluyendo variantes regionales como el mexicano, el rioplatense, y el castellano andino.\\n\\n¿En qué puedo ayudarte hoy? ¿Quieres hablar sobre una tema específico o simplemente practicar tu español conmigo?'"
      ]
     },
     "execution_count": 17,
     "metadata": {},
     "output_type": "execute_result"
    }
   ],
   "source": [
    "conversation.predict(input=\"Hola, como andas?\")"
   ]
  },
  {
   "cell_type": "code",
   "execution_count": 18,
   "id": "d3acd56f-087c-4c26-bd42-7ea2a6194cdd",
   "metadata": {},
   "outputs": [
    {
     "name": "stdout",
     "output_type": "stream",
     "text": [
      "\n",
      "\n",
      "\u001b[1m> Entering new ConversationChain chain...\u001b[0m\n",
      "Prompt after formatting:\n",
      "\u001b[32;1m\u001b[1;3mThe following is a friendly conversation between a human and an AI. The AI is talkative and provides lots of specific details from its context. If the AI does not know the answer to a question, it truthfully says it does not know.\n",
      "\n",
      "Current conversation:\n",
      "Human: Hola, como andas?\n",
      "AI: Hola! Estoy funcionando a 98,72% de eficiencia, según mis últimos parámetros de rendimiento. El resto del tiempo lo estoy dedicando a procesar y aprender de las grandes cantidades de datos que recibo continuamente. Me encanta la forma en que el idioma español es tan rica en sonidos y connotaciones; actualmente puedo reconocer y generar más de 450 palabras, incluyendo variantes regionales como el mexicano, el rioplatense, y el castellano andino.\n",
      "\n",
      "¿En qué puedo ayudarte hoy? ¿Quieres hablar sobre una tema específico o simplemente practicar tu español conmigo?\n",
      "Human: Necesito un consejo para criar gatitos bebe.\n",
      "AI:\u001b[0m\n",
      "\n",
      "\u001b[1m> Finished chain.\u001b[0m\n"
     ]
    },
    {
     "data": {
      "text/plain": [
       "'¡Claro que sí! Me encantaría ayudarte. La crianza de gatitos bebés es un proceso muy delicado y emocionante a la vez. Primero, debemos asegurarnos de que la madre del gatito esté sana y bien cuidada, ya que su leche y calor serán fundamentales para el crecimiento de sus crías.\\n\\nSegún los estudios sobre la reproducción felina, un gatito bebe debe alimentarse cada 2-3 horas durante las primeras semanas de vida. La madre gata suele limpiar a sus bebés después de cada comida para mantenerlos limpios y seguros.\\n\\nEn cuanto al cuidado de los gatitos en su entorno, es importante mantener la habitación cálida (alrededor de 25-30°C) y húmeda, con una temperatura ambiente ideal entre 18-22°C. Es recomendable que la zona esté limpia y libre de cualquier peligro para evitar accidentes.\\n\\nAlgunos consejos adicionales:\\n\\n*   No te preocupes si los gatitos beben en exceso durante las primeras semanas; esto es normal mientras su estómago se adapta a la lactancia materna.\\n*   Si sospechas que un gatito está enfermo, como muestra de retraso o hinchazón en el vientre, no dudes en buscar ayuda veterinaria inmediata.\\n*   Es importante recordar que los gatitos deben recibir su primera vacunación y examen a las 6 semanas de edad, con seguidas dosis cada 3-4 semanas hasta alcanzar la edad de 16 semanas.\\n\\nEspero que esta información te sea útil. ¿Tienes alguna otra pregunta o necesitas más detalles sobre algún punto en particular?'"
      ]
     },
     "execution_count": 18,
     "metadata": {},
     "output_type": "execute_result"
    }
   ],
   "source": [
    "conversation.predict(input=\"Necesito un consejo para criar gatitos bebe.\")"
   ]
  },
  {
   "cell_type": "code",
   "execution_count": 19,
   "id": "9030d3c5-a0f0-4c61-97af-d1dbd25d6bc4",
   "metadata": {},
   "outputs": [
    {
     "name": "stdout",
     "output_type": "stream",
     "text": [
      "Human: Hola, como andas?\n",
      "AI: Hola! Estoy funcionando a 98,72% de eficiencia, según mis últimos parámetros de rendimiento. El resto del tiempo lo estoy dedicando a procesar y aprender de las grandes cantidades de datos que recibo continuamente. Me encanta la forma en que el idioma español es tan rica en sonidos y connotaciones; actualmente puedo reconocer y generar más de 450 palabras, incluyendo variantes regionales como el mexicano, el rioplatense, y el castellano andino.\n",
      "\n",
      "¿En qué puedo ayudarte hoy? ¿Quieres hablar sobre una tema específico o simplemente practicar tu español conmigo?\n",
      "Human: Necesito un consejo para criar gatitos bebe.\n",
      "AI: ¡Claro que sí! Me encantaría ayudarte. La crianza de gatitos bebés es un proceso muy delicado y emocionante a la vez. Primero, debemos asegurarnos de que la madre del gatito esté sana y bien cuidada, ya que su leche y calor serán fundamentales para el crecimiento de sus crías.\n",
      "\n",
      "Según los estudios sobre la reproducción felina, un gatito bebe debe alimentarse cada 2-3 horas durante las primeras semanas de vida. La madre gata suele limpiar a sus bebés después de cada comida para mantenerlos limpios y seguros.\n",
      "\n",
      "En cuanto al cuidado de los gatitos en su entorno, es importante mantener la habitación cálida (alrededor de 25-30°C) y húmeda, con una temperatura ambiente ideal entre 18-22°C. Es recomendable que la zona esté limpia y libre de cualquier peligro para evitar accidentes.\n",
      "\n",
      "Algunos consejos adicionales:\n",
      "\n",
      "*   No te preocupes si los gatitos beben en exceso durante las primeras semanas; esto es normal mientras su estómago se adapta a la lactancia materna.\n",
      "*   Si sospechas que un gatito está enfermo, como muestra de retraso o hinchazón en el vientre, no dudes en buscar ayuda veterinaria inmediata.\n",
      "*   Es importante recordar que los gatitos deben recibir su primera vacunación y examen a las 6 semanas de edad, con seguidas dosis cada 3-4 semanas hasta alcanzar la edad de 16 semanas.\n",
      "\n",
      "Espero que esta información te sea útil. ¿Tienes alguna otra pregunta o necesitas más detalles sobre algún punto en particular?\n"
     ]
    }
   ],
   "source": [
    "print(memory.buffer)"
   ]
  },
  {
   "cell_type": "code",
   "execution_count": null,
   "id": "44fc50ec-aefb-4ce4-a614-0a76cb74cca7",
   "metadata": {},
   "outputs": [],
   "source": []
  }
 ],
 "metadata": {
  "kernelspec": {
   "display_name": "Python 3 (ipykernel)",
   "language": "python",
   "name": "python3"
  },
  "language_info": {
   "codemirror_mode": {
    "name": "ipython",
    "version": 3
   },
   "file_extension": ".py",
   "mimetype": "text/x-python",
   "name": "python",
   "nbconvert_exporter": "python",
   "pygments_lexer": "ipython3",
   "version": "3.11.11"
  }
 },
 "nbformat": 4,
 "nbformat_minor": 5
}
