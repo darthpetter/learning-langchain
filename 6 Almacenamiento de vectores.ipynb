{
 "cells": [
  {
   "cell_type": "code",
   "execution_count": 1,
   "id": "feac19e6-20ce-404b-a1bc-158672427a1f",
   "metadata": {},
   "outputs": [
    {
     "name": "stderr",
     "output_type": "stream",
     "text": [
      "C:\\Users\\PC\\anaconda3\\envs\\langchain\\Lib\\site-packages\\requests\\__init__.py:86: RequestsDependencyWarning: Unable to find acceptable character detection dependency (chardet or charset_normalizer).\n",
      "  warnings.warn(\n"
     ]
    }
   ],
   "source": [
    "from langchain_openai import OpenAIEmbeddings\n",
    "from langchain.text_splitter import CharacterTextSplitter\n",
    "from langchain.document_loaders import TextLoader"
   ]
  },
  {
   "cell_type": "markdown",
   "id": "649bc1aa-5737-45fe-a9da-42820a83ec9a",
   "metadata": {},
   "source": [
    "# Carga de documento y split"
   ]
  },
  {
   "cell_type": "code",
   "execution_count": 7,
   "id": "66408503-cf39-4bd3-acd7-7560ce7a9391",
   "metadata": {},
   "outputs": [],
   "source": [
    "loader=TextLoader('data_sources/lomas_de_sargentillo.txt',encoding='utf8')\n",
    "documents=loader.load()"
   ]
  },
  {
   "cell_type": "code",
   "execution_count": 8,
   "id": "cde599d7-6196-4e1b-9571-1b16821b099a",
   "metadata": {},
   "outputs": [
    {
     "name": "stderr",
     "output_type": "stream",
     "text": [
      "Created a chunk of size 728, which is longer than the specified 500\n",
      "Created a chunk of size 695, which is longer than the specified 500\n"
     ]
    }
   ],
   "source": [
    "text_splitter=CharacterTextSplitter.from_tiktoken_encoder(chunk_size=500)\n",
    "docs=text_splitter.split_documents(documents)"
   ]
  },
  {
   "cell_type": "markdown",
   "id": "112df5cb-413e-4a44-89d4-dc09ec84c74a",
   "metadata": {},
   "source": [
    "# Conectar a OpenAI para los embedding"
   ]
  },
  {
   "cell_type": "code",
   "execution_count": 9,
   "id": "9cb83006-ca41-4e19-b282-c7c16cfb46c0",
   "metadata": {},
   "outputs": [],
   "source": [
    "f=open('../openai_api_key.txt')\n",
    "api_key=f.read()"
   ]
  },
  {
   "cell_type": "code",
   "execution_count": 10,
   "id": "c186b12a-2502-4101-91fe-212266916b6f",
   "metadata": {},
   "outputs": [],
   "source": [
    "funcion_embedding=OpenAIEmbeddings(openai_api_key=api_key)"
   ]
  },
  {
   "cell_type": "markdown",
   "id": "43625426-b367-4ab9-99fd-4308b9dc9a2d",
   "metadata": {},
   "source": [
    "# Alternativa con SKLearn Vector Store"
   ]
  },
  {
   "cell_type": "code",
   "execution_count": 11,
   "id": "9a31c0e9-3472-4a28-8f35-5121ae14ca45",
   "metadata": {},
   "outputs": [],
   "source": [
    "from langchain_community.vectorstores import SKLearnVectorStore"
   ]
  },
  {
   "cell_type": "code",
   "execution_count": 14,
   "id": "741bfbf1-04f5-4d30-a05a-344dd8b08610",
   "metadata": {},
   "outputs": [],
   "source": [
    "persist_path='../persistence/ejemplo_sk_embedding_db'\n",
    "\n",
    "vector_store=SKLearnVectorStore.from_documents(\n",
    "    documents=docs,\n",
    "    embedding=funcion_embedding,\n",
    "    persist_path=persist_path,\n",
    "    serializer=\"parquet\"\n",
    ")"
   ]
  },
  {
   "cell_type": "code",
   "execution_count": 15,
   "id": "3ab80a91-9c0a-42c3-b08b-627a17fd1206",
   "metadata": {},
   "outputs": [],
   "source": [
    "vector_store.persist()"
   ]
  },
  {
   "cell_type": "code",
   "execution_count": 18,
   "id": "4d805e22-7593-47b9-afd8-3f4464868eb2",
   "metadata": {},
   "outputs": [
    {
     "name": "stdout",
     "output_type": "stream",
     "text": [
      "## Historia del nombre\n",
      "El nombre Lomas de sargentillo data del año 1894. Según los hijos más antiguos de esta localidad, quienes cuentan que en ese año paso por estos lugares el general Eloy Alfaro cuando luchaba por implantar su doctrina liberal. En aquel año quedó en el pueblo un sargento voluntario de su tropa muy enfermo, más tarde mejoró su salud y se casó con una simpática mujer lugareña procreando un hijo al que cariñosamente le apodaron sargentillo.\n",
      "\n",
      "Con el transcurso del tiempo este lugar fue bautizado por propios y extraños como “Lomas de Sargentillo” cuando se referían al mismo honor del hijo del sargento del general Eloy Alfaro y porque las tierras son altas.\n",
      "\n",
      "La historia también recuerda que en 1913 el coronel Carlos Concha se levantó en armas en contra del gobierno del general Leonidas Plaza sopretexto de esta misma finalidad grupos indeseables formaron filas para el patrocinio del pillaje y barbarie. Dichos grupos se denominaron “Montoneras” y formaron su guardia en las montañas de paco y por las noches salían al entonces caserío de la Lomas de Sargentillo a robar y saquear hasta que encontraron resistencia en el batallón del lugar.\n"
     ]
    }
   ],
   "source": [
    "consulta=\"¿Cuál es el origen del nombre Lomas de Sargentillo?\"\n",
    "docs=vector_store.similarity_search(consulta)\n",
    "print(docs[0].page_content)"
   ]
  },
  {
   "cell_type": "markdown",
   "id": "6267e9cb-0c99-48db-a1b5-31eeafdf60a4",
   "metadata": {},
   "source": [
    "# Conexión"
   ]
  },
  {
   "cell_type": "code",
   "execution_count": 19,
   "id": "65a23f79-606b-48a3-8e6e-807d03fb7f1f",
   "metadata": {},
   "outputs": [],
   "source": [
    "vector_store_connection=SKLearnVectorStore(\n",
    "    embedding=funcion_embedding,\n",
    "    persist_path=persist_path,\n",
    "    serializer=\"parquet\"\n",
    ")"
   ]
  },
  {
   "cell_type": "code",
   "execution_count": 23,
   "id": "ea5b735a-08d5-4d69-94af-3077ada074ed",
   "metadata": {},
   "outputs": [],
   "source": [
    "nueva_consulta=\"¿Cuáles son las límites territoriales de Lomas de Sargentillo?\""
   ]
  },
  {
   "cell_type": "code",
   "execution_count": 24,
   "id": "9909767b-c682-4994-bd29-cb6101f18504",
   "metadata": {},
   "outputs": [
    {
     "name": "stdout",
     "output_type": "stream",
     "text": [
      "La historia también recuerda que en 1913 el coronel Carlos Concha se levantó en armas en contra del gobierno del general Leonidas Plaza sopretexto de esta misma finalidad grupos indeseables formaron filas para el patrocinio del pillaje y barbarie. Dichos grupos se denominaron “Montoneras” y formaron su guardia en las montañas de paco y por las noches salían al entonces caserío de la Lomas de Sargentillo a robar y saquear hasta que encontraron resistencia en el batallón del lugar.\n",
      "\n",
      "Es de destacar que los autores o creadores tanto de la bandera como del escudo de Lomas de Sargentillo fueron el Prof. Arturo Navas y la Profa. Eugenia Carvajal Ruiz Díaz; pero el actual escudo del cantón difiere un poco del escudo cuando Lomas de Sargentillo era parroquia, en algunas modificaciones realizadas previa consulta a la Sra. Profa. Eugenia Carvajal Ruiz Díaz y al Prof. Arq. Isaac González Holguín.\n",
      "\n",
      "Tiene una extensión de 66,50 km² que corresponden a 6650 hectáreas 431 ha de zona rural y está ubicado en el centro de la provincia del Guayas. Sus límites generales son: Al norte con el cantón Santa Lucía, al sur con el cantón Guayaquil, al este con los cantones Daule y Vicente Piedrahíta y al oeste con el cantón Isidro Ayora.\n"
     ]
    }
   ],
   "source": [
    "docs=vector_store.similarity_search(nueva_consulta)\n",
    "print(docs[0].page_content)"
   ]
  },
  {
   "cell_type": "code",
   "execution_count": null,
   "id": "cc35d5fe-ffe2-4b40-9784-40d29548de37",
   "metadata": {},
   "outputs": [],
   "source": []
  }
 ],
 "metadata": {
  "kernelspec": {
   "display_name": "Python 3 (ipykernel)",
   "language": "python",
   "name": "python3"
  },
  "language_info": {
   "codemirror_mode": {
    "name": "ipython",
    "version": 3
   },
   "file_extension": ".py",
   "mimetype": "text/x-python",
   "name": "python",
   "nbconvert_exporter": "python",
   "pygments_lexer": "ipython3",
   "version": "3.11.11"
  }
 },
 "nbformat": 4,
 "nbformat_minor": 5
}
