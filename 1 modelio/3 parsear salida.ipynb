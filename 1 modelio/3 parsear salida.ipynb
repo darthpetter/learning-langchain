{
 "cells": [
  {
   "cell_type": "markdown",
   "id": "02b1af2e-32c2-430c-a0b5-8b917dcc5a1b",
   "metadata": {},
   "source": [
    "# Parsear y procesar la salida"
   ]
  },
  {
   "cell_type": "code",
   "execution_count": 2,
   "id": "0c6b2d43-2687-4bd0-b926-5ecfb8dd3e1b",
   "metadata": {},
   "outputs": [],
   "source": [
    "from langchain.prompts import PromptTemplate,SystemMessagePromptTemplate,ChatPromptTemplate,HumanMessagePromptTemplate\n",
    "from langchain_openai import ChatOpenAI\n",
    "f=open('openai_api_key.txt')\n",
    "api_key=f.read()\n",
    "chat=ChatOpenAI(openai_api_key=api_key)"
   ]
  },
  {
   "cell_type": "markdown",
   "id": "500d9ecb-492c-4db9-9987-7fb46b52db62",
   "metadata": {},
   "source": [
    "## Parsear uns lista de elemento separados por coma"
   ]
  },
  {
   "cell_type": "code",
   "execution_count": 5,
   "id": "b68d63bc-6ae4-40e2-81c9-5a73d286b8b1",
   "metadata": {},
   "outputs": [],
   "source": [
    "from langchain.output_parsers import CommaSeparatedListOutputParser"
   ]
  },
  {
   "cell_type": "code",
   "execution_count": 6,
   "id": "0e35f2cb-f5b1-45c3-b59f-598c01d21ad8",
   "metadata": {},
   "outputs": [],
   "source": [
    "output_parser=CommaSeparatedListOutputParser()"
   ]
  },
  {
   "cell_type": "code",
   "execution_count": 7,
   "id": "0c43db8b-015e-47ba-95dc-9f163994286e",
   "metadata": {},
   "outputs": [],
   "source": [
    "format_instruction=output_parser.get_format_instructions()"
   ]
  },
  {
   "cell_type": "code",
   "execution_count": 8,
   "id": "a6bf8a1e-ec4d-496f-bc53-de05f1d5783f",
   "metadata": {},
   "outputs": [
    {
     "name": "stdout",
     "output_type": "stream",
     "text": [
      "Your response should be a list of comma separated values, eg: `foo, bar, baz` or `foo,bar,baz`\n"
     ]
    }
   ],
   "source": [
    "print(format_instruction)"
   ]
  },
  {
   "cell_type": "code",
   "execution_count": 9,
   "id": "0b94af18-6728-4a45-bfb4-ce8109ed3a1e",
   "metadata": {},
   "outputs": [
    {
     "data": {
      "text/plain": [
       "['coche', 'arbol', 'carretera']"
      ]
     },
     "execution_count": 9,
     "metadata": {},
     "output_type": "execute_result"
    }
   ],
   "source": [
    "respuesta=\"coche, arbol, carretera\"\n",
    "output_parser.parse(respuesta)"
   ]
  },
  {
   "cell_type": "code",
   "execution_count": 10,
   "id": "606b292a-233e-4747-a729-95a3d167681c",
   "metadata": {},
   "outputs": [],
   "source": [
    "human_template='{request}\\n{format_instructions}'\n",
    "human_prompt=HumanMessagePromptTemplate.from_template(human_template)"
   ]
  },
  {
   "cell_type": "code",
   "execution_count": 12,
   "id": "244e43b8-0708-4455-9d37-bacd0006caf3",
   "metadata": {},
   "outputs": [
    {
     "data": {
      "text/plain": [
       "ChatPromptValue(messages=[HumanMessage(content='dime 5 caracteristicas de los coches americanos\\nYour response should be a list of comma separated values, eg: `foo, bar, baz` or `foo,bar,baz`', additional_kwargs={}, response_metadata={})])"
      ]
     },
     "execution_count": 12,
     "metadata": {},
     "output_type": "execute_result"
    }
   ],
   "source": [
    "chat_prompt=ChatPromptTemplate.from_messages([human_prompt])\n",
    "\n",
    "chat_prompt.format_prompt(\n",
    "    request=\"dime 5 caracteristicas de los coches americanos\",\n",
    "    format_instructions=output_parser.get_format_instructions()\n",
    ")"
   ]
  },
  {
   "cell_type": "code",
   "execution_count": 17,
   "id": "fa5e527d-6b2e-44f1-adf7-77bc94eea812",
   "metadata": {},
   "outputs": [],
   "source": [
    "solicitud_completa=chat_prompt.format_prompt(\n",
    "    request=\"dime 5 caracteristicas de la musica ecuatoriana\",\n",
    "    format_instructions=output_parser.get_format_instructions()\n",
    ").to_messages()"
   ]
  },
  {
   "cell_type": "code",
   "execution_count": 18,
   "id": "04d1aede-525f-439d-ae91-dc8598b105fe",
   "metadata": {},
   "outputs": [],
   "source": [
    "result=chat.invoke(solicitud_completa)"
   ]
  },
  {
   "cell_type": "code",
   "execution_count": 19,
   "id": "dc3a4268-c4ef-424a-a0e5-54f431913071",
   "metadata": {},
   "outputs": [
    {
     "data": {
      "text/plain": [
       "'ritmo alegre, melodía pegajosa, letras emotivas, instrumentos andinos, fusiones de géneros musicales.'"
      ]
     },
     "execution_count": 19,
     "metadata": {},
     "output_type": "execute_result"
    }
   ],
   "source": [
    "result.content"
   ]
  },
  {
   "cell_type": "code",
   "execution_count": 20,
   "id": "d5041b11-b7c0-4a72-97b4-ff8910002d1b",
   "metadata": {},
   "outputs": [
    {
     "data": {
      "text/plain": [
       "['ritmo alegre',\n",
       " 'melodía pegajosa',\n",
       " 'letras emotivas',\n",
       " 'instrumentos andinos',\n",
       " 'fusiones de géneros musicales.']"
      ]
     },
     "execution_count": 20,
     "metadata": {},
     "output_type": "execute_result"
    }
   ],
   "source": [
    "output_parser.parse(result.content)"
   ]
  },
  {
   "cell_type": "markdown",
   "id": "bc9a4aa5-b47f-4a3a-bc93-a29d4dd8c4ef",
   "metadata": {},
   "source": [
    "# Parsear formatos de fecha"
   ]
  },
  {
   "cell_type": "code",
   "execution_count": 21,
   "id": "5fd8206b-f867-4e74-b275-d4619d603401",
   "metadata": {},
   "outputs": [],
   "source": [
    "from langchain.output_parsers import DatetimeOutputParser"
   ]
  },
  {
   "cell_type": "code",
   "execution_count": 22,
   "id": "c3df4119-9c8e-4ff8-9670-4cf7aaafeecc",
   "metadata": {},
   "outputs": [],
   "source": [
    "output_parser=DatetimeOutputParser()"
   ]
  },
  {
   "cell_type": "code",
   "execution_count": 23,
   "id": "cdb378c8-ad02-49be-81be-fdc71402fe2d",
   "metadata": {},
   "outputs": [
    {
     "name": "stdout",
     "output_type": "stream",
     "text": [
      "Write a datetime string that matches the following pattern: '%Y-%m-%dT%H:%M:%S.%fZ'.\n",
      "\n",
      "Examples: 1570-04-09T17:25:47.499046Z, 1277-07-28T21:09:12.098076Z, 1387-06-20T05:42:54.268959Z\n",
      "\n",
      "Return ONLY this string, no other words!\n"
     ]
    }
   ],
   "source": [
    "print(output_parser.get_format_instructions())"
   ]
  },
  {
   "cell_type": "code",
   "execution_count": 24,
   "id": "0c550483-4fa8-43a2-907e-8e769d27ecd1",
   "metadata": {},
   "outputs": [],
   "source": [
    "template_text=\"{request}\\n{format_instructions}\"\n",
    "human_prompt=HumanMessagePromptTemplate.from_template(template_text)"
   ]
  },
  {
   "cell_type": "code",
   "execution_count": 25,
   "id": "ce2f1ae8-b771-4f42-a0bc-91527176453f",
   "metadata": {},
   "outputs": [],
   "source": [
    "chat_prompt=ChatPromptTemplate.from_messages([human_prompt])"
   ]
  },
  {
   "cell_type": "code",
   "execution_count": 27,
   "id": "0ac36c60-08a7-49c0-8ae1-5e259510038a",
   "metadata": {},
   "outputs": [],
   "source": [
    "solicitud_completa=chat_prompt.format_prompt(\n",
    "    request=\"dime la fecha de muerte de simon bolivar.\",\n",
    "    format_instructions=output_parser.get_format_instructions()\n",
    ").to_messages()"
   ]
  },
  {
   "cell_type": "code",
   "execution_count": 29,
   "id": "73778bb8-e2a4-461b-a8e9-c5c4a1d2a08b",
   "metadata": {},
   "outputs": [],
   "source": [
    "result=chat.invoke(solicitud_completa)"
   ]
  },
  {
   "cell_type": "code",
   "execution_count": 30,
   "id": "ba8beed4-2f2f-4c80-b23b-12a55cfb28df",
   "metadata": {},
   "outputs": [
    {
     "data": {
      "text/plain": [
       "'1830-12-17T18:30:00.000000Z'"
      ]
     },
     "execution_count": 30,
     "metadata": {},
     "output_type": "execute_result"
    }
   ],
   "source": [
    "result.content"
   ]
  },
  {
   "cell_type": "code",
   "execution_count": 31,
   "id": "09d0798d-7751-4b29-a37c-1f242e1216e1",
   "metadata": {},
   "outputs": [
    {
     "data": {
      "text/plain": [
       "datetime.datetime(1830, 12, 17, 18, 30)"
      ]
     },
     "execution_count": 31,
     "metadata": {},
     "output_type": "execute_result"
    }
   ],
   "source": [
    "output_parser.parse(result.content)"
   ]
  },
  {
   "cell_type": "markdown",
   "id": "1d20baa9-8fdb-40ae-8a15-0acf80cc96d1",
   "metadata": {},
   "source": [
    "# Metodos para solucionar problemas de parseo "
   ]
  },
  {
   "cell_type": "markdown",
   "id": "918cdc3c-ace4-4a09-a01b-91ca9e5e4024",
   "metadata": {},
   "source": [
    "## Auto-fix parser\n",
    "Va a reiterar la llamada al LLM para que solucione el mal parseo."
   ]
  },
  {
   "cell_type": "code",
   "execution_count": 33,
   "id": "b3bfcc19-f4b4-46a8-920b-17ccd050730e",
   "metadata": {},
   "outputs": [],
   "source": [
    "from langchain.output_parsers import OutputFixingParser\n",
    "output_parser_dates=DatetimeOutputParser()\n",
    "misformatted=result.content"
   ]
  },
  {
   "cell_type": "code",
   "execution_count": 34,
   "id": "dfecaf6c-66eb-45ec-8a0a-e73ee6e62579",
   "metadata": {},
   "outputs": [
    {
     "data": {
      "text/plain": [
       "'1830-12-17T18:30:00.000000Z'"
      ]
     },
     "execution_count": 34,
     "metadata": {},
     "output_type": "execute_result"
    }
   ],
   "source": [
    "misformatted"
   ]
  },
  {
   "cell_type": "code",
   "execution_count": 35,
   "id": "230a5b71-2ee5-403e-9a95-57120dbcb2df",
   "metadata": {},
   "outputs": [],
   "source": [
    "new_parser=OutputFixingParser.from_llm(\n",
    "    parser=output_parser_dates,\n",
    "    llm=chat\n",
    ")"
   ]
  },
  {
   "cell_type": "code",
   "execution_count": 37,
   "id": "67a7119d-23a3-47ee-80c5-ecfb20344a80",
   "metadata": {},
   "outputs": [
    {
     "data": {
      "text/plain": [
       "datetime.datetime(1830, 12, 17, 18, 30)"
      ]
     },
     "execution_count": 37,
     "metadata": {},
     "output_type": "execute_result"
    }
   ],
   "source": [
    "new_parser.parse(misformatted)"
   ]
  },
  {
   "cell_type": "markdown",
   "id": "735dd485-5c1d-44ac-983c-614e7dd70965",
   "metadata": {},
   "source": [
    "## Solucionar con SystemPrompt"
   ]
  },
  {
   "cell_type": "code",
   "execution_count": 47,
   "id": "cd9ed600-8c13-4178-931b-4d33fa4bc99a",
   "metadata": {},
   "outputs": [],
   "source": [
    "system_prompt=SystemMessagePromptTemplate.from_template(\"Tienes que responder únicamente con un patrón de fechas.\")\n",
    "template_text=\"{request}\\n{format_instructions}\"\n",
    "human_prompt=HumanMessagePromptTemplate.from_template(template_text)"
   ]
  },
  {
   "cell_type": "code",
   "execution_count": 48,
   "id": "8dd9ff90-1591-4c16-8728-b4d8d14679c0",
   "metadata": {},
   "outputs": [],
   "source": [
    "chat_prompt=ChatPromptTemplate.from_messages([system_prompt,human_prompt])"
   ]
  },
  {
   "cell_type": "code",
   "execution_count": 49,
   "id": "4caac680-a2ee-4f1f-8599-3ab4a23170ec",
   "metadata": {},
   "outputs": [
    {
     "name": "stdout",
     "output_type": "stream",
     "text": [
      "System: Tienes que responder únicamente con un patrón de fechas.\n",
      "Human: Cual es la fecha de independencia de Guayaquil\n",
      "Write a datetime string that matches the following pattern: '%Y-%m-%dT%H:%M:%S.%fZ'.\n",
      "\n",
      "Examples: 0344-10-03T15:14:41.275316Z, 0116-10-13T22:31:36.122370Z, 0805-02-03T18:40:32.249313Z\n",
      "\n",
      "Return ONLY this string, no other words!\n"
     ]
    }
   ],
   "source": [
    "print(\n",
    "    chat_prompt.format(\n",
    "        request=\"Cual es la fecha de independencia de Guayaquil\",\n",
    "        format_instructions=output_parser_dates.get_format_instructions()\n",
    "    )\n",
    ")"
   ]
  },
  {
   "cell_type": "code",
   "execution_count": 51,
   "id": "8c0d3b60-6de4-4a4f-afc5-ed42ef533981",
   "metadata": {},
   "outputs": [],
   "source": [
    "solicitud_completa=chat_prompt.format_prompt(\n",
    "        request=\"Cual es la fecha de independencia de Guayaquil\",\n",
    "        format_instructions=output_parser_dates.get_format_instructions()\n",
    "    ).to_messages()"
   ]
  },
  {
   "cell_type": "code",
   "execution_count": 52,
   "id": "ddc5e93f-aa27-467f-9762-4df000d084f8",
   "metadata": {},
   "outputs": [],
   "source": [
    "result=chat.invoke(solicitud_completa)"
   ]
  },
  {
   "cell_type": "code",
   "execution_count": 53,
   "id": "639d1afa-6438-455b-bd37-98cb6012eed0",
   "metadata": {},
   "outputs": [
    {
     "data": {
      "text/plain": [
       "'1820-10-09T00:00:00.000000Z'"
      ]
     },
     "execution_count": 53,
     "metadata": {},
     "output_type": "execute_result"
    }
   ],
   "source": [
    "result.content"
   ]
  },
  {
   "cell_type": "code",
   "execution_count": 54,
   "id": "b1ba0b84-01fb-496a-8032-d65b17089008",
   "metadata": {},
   "outputs": [
    {
     "data": {
      "text/plain": [
       "datetime.datetime(1820, 10, 9, 0, 0)"
      ]
     },
     "execution_count": 54,
     "metadata": {},
     "output_type": "execute_result"
    }
   ],
   "source": [
    "output_parser_dates.parse(result.content)"
   ]
  }
 ],
 "metadata": {
  "kernelspec": {
   "display_name": "Python 3 (ipykernel)",
   "language": "python",
   "name": "python3"
  },
  "language_info": {
   "codemirror_mode": {
    "name": "ipython",
    "version": 3
   },
   "file_extension": ".py",
   "mimetype": "text/x-python",
   "name": "python",
   "nbconvert_exporter": "python",
   "pygments_lexer": "ipython3",
   "version": "3.11.11"
  }
 },
 "nbformat": 4,
 "nbformat_minor": 5
}
