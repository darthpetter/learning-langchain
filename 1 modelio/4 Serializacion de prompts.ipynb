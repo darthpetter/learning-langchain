{
 "cells": [
  {
   "cell_type": "markdown",
   "id": "25873865-58d0-4c51-9122-99f5ffc0ef71",
   "metadata": {},
   "source": [
    "# Serializar prompts: Guardar y cargar\n",
    "Langchain permite guardar plantillas de mensajes en JSON para leer o compartir. "
   ]
  },
  {
   "cell_type": "code",
   "execution_count": 7,
   "id": "cbfc1985-9f1e-417c-a883-24a796d47f42",
   "metadata": {},
   "outputs": [],
   "source": [
    "from langchain.prompts import PromptTemplate,SystemMessagePromptTemplate,ChatPromptTemplate,HumanMessagePromptTemplate\n",
    "from langchain_openai import ChatOpenAI\n",
    "f=open('openai_api_key.txt')\n",
    "api_key=f.read()\n",
    "chat=ChatOpenAI(openai_api_key=api_key)"
   ]
  },
  {
   "cell_type": "markdown",
   "id": "f4929539-527a-411a-aa5e-cb5223b0ba9e",
   "metadata": {},
   "source": [
    "# Guardar plantilla prompt"
   ]
  },
  {
   "cell_type": "code",
   "execution_count": 8,
   "id": "6097659c-c52f-4e1c-81d7-51086c1d9b63",
   "metadata": {},
   "outputs": [],
   "source": [
    "plantilla=\"Pregunta :{pregunta_usuario}\\n\\nRespuesta: Vamos a verlo paso a paso.\"\n",
    "prompt=PromptTemplate(template=plantilla)\n",
    "prompt.save(\"prompt.json\")"
   ]
  }
 ],
 "metadata": {
  "kernelspec": {
   "display_name": "Python 3 (ipykernel)",
   "language": "python",
   "name": "python3"
  },
  "language_info": {
   "codemirror_mode": {
    "name": "ipython",
    "version": 3
   },
   "file_extension": ".py",
   "mimetype": "text/x-python",
   "name": "python",
   "nbconvert_exporter": "python",
   "pygments_lexer": "ipython3",
   "version": "3.11.11"
  }
 },
 "nbformat": 4,
 "nbformat_minor": 5
}
