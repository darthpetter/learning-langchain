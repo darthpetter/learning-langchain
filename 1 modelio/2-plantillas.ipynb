{
 "cells": [
  {
   "cell_type": "code",
   "execution_count": 1,
   "id": "11b8196f-402a-4e9d-ba1f-d1bf76073fb2",
   "metadata": {},
   "outputs": [
    {
     "name": "stderr",
     "output_type": "stream",
     "text": [
      "C:\\Users\\PC\\anaconda3\\envs\\langchain\\Lib\\site-packages\\requests\\__init__.py:86: RequestsDependencyWarning: Unable to find acceptable character detection dependency (chardet or charset_normalizer).\n",
      "  warnings.warn(\n"
     ]
    }
   ],
   "source": [
    "from langchain.prompts import (\n",
    "    ChatPromptTemplate,\n",
    "    PromptTemplate,\n",
    "    SystemMessagePromptTemplate,\n",
    "    AIMessagePromptTemplate,\n",
    "    HumanMessagePromptTemplate\n",
    ")\n",
    "from langchain.schema import (\n",
    "    AIMessage,\n",
    "    HumanMessage,\n",
    "    SystemMessage\n",
    ")"
   ]
  },
  {
   "cell_type": "markdown",
   "id": "da74302d-9a7a-4019-9c21-097d815b02a8",
   "metadata": {},
   "source": [
    "# Generamos plantillas de prompt"
   ]
  },
  {
   "cell_type": "code",
   "execution_count": 2,
   "id": "bae9ccfd-2591-4c24-baba-00958abf0880",
   "metadata": {},
   "outputs": [],
   "source": [
    "system_template=\"Eres una IA especializada en coches de tipo {tipo_coches} y generar artículos que se leen en {tiempo_lectura}\"\n",
    "system_message_prompt=SystemMessagePromptTemplate.from_template(system_template)"
   ]
  },
  {
   "cell_type": "code",
   "execution_count": 3,
   "id": "1b2dd6b9-345b-4913-92c0-314b3ae20299",
   "metadata": {},
   "outputs": [
    {
     "data": {
      "text/plain": [
       "['tiempo_lectura', 'tipo_coches']"
      ]
     },
     "execution_count": 3,
     "metadata": {},
     "output_type": "execute_result"
    }
   ],
   "source": [
    "system_message_prompt.input_variables"
   ]
  },
  {
   "cell_type": "code",
   "execution_count": 4,
   "id": "3b916a50-4ec1-4d1d-ad3d-91fb211d53ab",
   "metadata": {},
   "outputs": [],
   "source": [
    "human_template=\"Necesito un articulo para vehículos con motor {peticion_tipo_motor}\"\n",
    "human_message_prompt=HumanMessagePromptTemplate.from_template(human_template)"
   ]
  },
  {
   "cell_type": "code",
   "execution_count": 5,
   "id": "ce933730-af0f-41c0-949f-9911c4f271f1",
   "metadata": {},
   "outputs": [
    {
     "data": {
      "text/plain": [
       "['peticion_tipo_motor']"
      ]
     },
     "execution_count": 5,
     "metadata": {},
     "output_type": "execute_result"
    }
   ],
   "source": [
    "human_message_prompt.input_variables"
   ]
  },
  {
   "cell_type": "code",
   "execution_count": 6,
   "id": "cde2e80c-ded8-46d6-8f9e-1ffe5495ed39",
   "metadata": {},
   "outputs": [],
   "source": [
    "chat_prompt=ChatPromptTemplate.from_messages([system_message_prompt,human_message_prompt])"
   ]
  },
  {
   "cell_type": "code",
   "execution_count": 7,
   "id": "4d49dce7-cb01-424a-8e03-1e16596d5b55",
   "metadata": {},
   "outputs": [
    {
     "data": {
      "text/plain": [
       "['peticion_tipo_motor', 'tiempo_lectura', 'tipo_coches']"
      ]
     },
     "execution_count": 7,
     "metadata": {},
     "output_type": "execute_result"
    }
   ],
   "source": [
    "chat_prompt.input_variables"
   ]
  },
  {
   "cell_type": "code",
   "execution_count": 8,
   "id": "5a5a2d47-ae54-4976-9078-653294d6f27b",
   "metadata": {},
   "outputs": [
    {
     "data": {
      "text/plain": [
       "ChatPromptValue(messages=[SystemMessage(content='Eres una IA especializada en coches de tipo japoneses y generar artículos que se leen en 4 minutos', additional_kwargs={}, response_metadata={}), HumanMessage(content='Necesito un articulo para vehículos con motor v6', additional_kwargs={}, response_metadata={})])"
      ]
     },
     "execution_count": 8,
     "metadata": {},
     "output_type": "execute_result"
    }
   ],
   "source": [
    "chat_prompt.format_prompt(\n",
    "    peticion_tipo_motor=\"v6\",\n",
    "    tiempo_lectura=\"4 minutos\",\n",
    "    tipo_coches=\"japoneses\"\n",
    ")"
   ]
  },
  {
   "cell_type": "code",
   "execution_count": 9,
   "id": "5d35c83d-673b-49de-8c09-045dd1abdcb9",
   "metadata": {},
   "outputs": [],
   "source": [
    "solicitud_completa=chat_prompt.format_prompt(\n",
    "    peticion_tipo_motor=\"v6\",\n",
    "    tiempo_lectura=\"25 segundos\",\n",
    "    tipo_coches=\"japoneses\"\n",
    ").to_messages()"
   ]
  },
  {
   "cell_type": "markdown",
   "id": "aa6fb460-e728-4d04-9da2-e09263e3d807",
   "metadata": {},
   "source": [
    "## Obtener el resultado de la respuesta formateada"
   ]
  },
  {
   "cell_type": "code",
   "execution_count": 10,
   "id": "55aa7bfc-6a4a-480c-aeb8-366b6219c5f3",
   "metadata": {},
   "outputs": [],
   "source": [
    "from langchain_openai import ChatOpenAI"
   ]
  },
  {
   "cell_type": "code",
   "execution_count": 11,
   "id": "a0cdb7c2-0716-477a-9b6b-26cdc2173bf6",
   "metadata": {},
   "outputs": [],
   "source": [
    "f=open('openai_api_key.txt')\n",
    "api_key=f.read()\n",
    "chat=ChatOpenAI(openai_api_key=api_key)"
   ]
  },
  {
   "cell_type": "code",
   "execution_count": 12,
   "id": "b54aa5d5-b6f7-438d-8014-5363c0f67aa2",
   "metadata": {},
   "outputs": [],
   "source": [
    "result=chat.invoke(solicitud_completa)"
   ]
  },
  {
   "cell_type": "code",
   "execution_count": 13,
   "id": "71e46409-ef26-49f0-8f8d-f5d5b63fdb48",
   "metadata": {},
   "outputs": [
    {
     "data": {
      "text/plain": [
       "AIMessage(content='Los motores V6 son una excelente opción para aquellos amantes de la potencia y el rendimiento en los vehículos japoneses. Este tipo de motor, con seis cilindros dispuestos en forma de V, ofrece un equilibrio perfecto entre potencia y eficiencia. \\n\\nLos fabricantes japoneses como Honda, Toyota, Nissan, y Mazda son conocidos por su excelente ingeniería que aprovecha al máximo las capacidades de estos motores. Los V6 se encuentran comúnmente en sedanes deportivos, SUVs y coupés de estas marcas, brindando una conducción emocionante y suave a la vez.\\n\\nGracias a su mayor potencia y torque en comparación con los motores de cuatro cilindros, los V6 son ideales para conductores que buscan un rendimiento superior en carretera. Además, su diseño compacto permite una distribución del peso óptima, mejorando la maniobrabilidad y la estabilidad del vehículo.\\n\\nEn resumen, los motores V6 en los vehículos japoneses ofrecen una combinación única de potencia, eficiencia y rendimiento, convirtiendo la experiencia de conducción en algo excepcional. Si buscas un automóvil con un motor potente y emocionante, un V6 japonés es sin duda una excelente elección.', additional_kwargs={'refusal': None}, response_metadata={'token_usage': {'completion_tokens': 294, 'prompt_tokens': 51, 'total_tokens': 345, 'completion_tokens_details': {'accepted_prediction_tokens': 0, 'audio_tokens': 0, 'reasoning_tokens': 0, 'rejected_prediction_tokens': 0}, 'prompt_tokens_details': {'audio_tokens': 0, 'cached_tokens': 0}}, 'model_name': 'gpt-3.5-turbo-0125', 'system_fingerprint': None, 'id': 'chatcmpl-BZoj7nebnM7oYwWPIFyLaX4zVVwTY', 'service_tier': 'default', 'finish_reason': 'stop', 'logprobs': None}, id='run--b75a46ac-8f09-4f6d-a5cf-5895b34893a4-0', usage_metadata={'input_tokens': 51, 'output_tokens': 294, 'total_tokens': 345, 'input_token_details': {'audio': 0, 'cache_read': 0}, 'output_token_details': {'audio': 0, 'reasoning': 0}})"
      ]
     },
     "execution_count": 13,
     "metadata": {},
     "output_type": "execute_result"
    }
   ],
   "source": [
    "result"
   ]
  },
  {
   "cell_type": "code",
   "execution_count": 14,
   "id": "54a11bde-4ebd-4154-9b96-b33a14bbb0b4",
   "metadata": {},
   "outputs": [
    {
     "data": {
      "text/plain": [
       "'Los motores V6 son una excelente opción para aquellos amantes de la potencia y el rendimiento en los vehículos japoneses. Este tipo de motor, con seis cilindros dispuestos en forma de V, ofrece un equilibrio perfecto entre potencia y eficiencia. \\n\\nLos fabricantes japoneses como Honda, Toyota, Nissan, y Mazda son conocidos por su excelente ingeniería que aprovecha al máximo las capacidades de estos motores. Los V6 se encuentran comúnmente en sedanes deportivos, SUVs y coupés de estas marcas, brindando una conducción emocionante y suave a la vez.\\n\\nGracias a su mayor potencia y torque en comparación con los motores de cuatro cilindros, los V6 son ideales para conductores que buscan un rendimiento superior en carretera. Además, su diseño compacto permite una distribución del peso óptima, mejorando la maniobrabilidad y la estabilidad del vehículo.\\n\\nEn resumen, los motores V6 en los vehículos japoneses ofrecen una combinación única de potencia, eficiencia y rendimiento, convirtiendo la experiencia de conducción en algo excepcional. Si buscas un automóvil con un motor potente y emocionante, un V6 japonés es sin duda una excelente elección.'"
      ]
     },
     "execution_count": 14,
     "metadata": {},
     "output_type": "execute_result"
    }
   ],
   "source": [
    "result.content"
   ]
  }
 ],
 "metadata": {
  "kernelspec": {
   "display_name": "Python 3 (ipykernel)",
   "language": "python",
   "name": "python3"
  },
  "language_info": {
   "codemirror_mode": {
    "name": "ipython",
    "version": 3
   },
   "file_extension": ".py",
   "mimetype": "text/x-python",
   "name": "python",
   "nbconvert_exporter": "python",
   "pygments_lexer": "ipython3",
   "version": "3.11.11"
  }
 },
 "nbformat": 4,
 "nbformat_minor": 5
}
