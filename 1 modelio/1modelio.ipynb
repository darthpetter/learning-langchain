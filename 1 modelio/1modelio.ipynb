{
 "cells": [
  {
   "cell_type": "code",
   "execution_count": 2,
   "id": "3303d12c-ef9c-49c4-9842-76556b6d880a",
   "metadata": {},
   "outputs": [],
   "source": [
    "import langchain"
   ]
  },
  {
   "cell_type": "code",
   "execution_count": 6,
   "id": "d5454edb-cc48-4a41-b6da-1bf947784d65",
   "metadata": {},
   "outputs": [],
   "source": [
    "from langchain_openai import ChatOpenAI\n",
    "from langchain.schema import SystemMessage,HumanMessage"
   ]
  },
  {
   "cell_type": "code",
   "execution_count": 11,
   "id": "5024cf41-a855-4c5c-bbed-91d371299fa3",
   "metadata": {},
   "outputs": [],
   "source": [
    "f=open('openai_api_key.txt')\n",
    "openai_api_key=f.read()\n",
    "chat=ChatOpenAI(openai_api_key=openai_api_key)"
   ]
  },
  {
   "cell_type": "markdown",
   "id": "195836ec-5071-4f50-a3a7-9032ba3d857d",
   "metadata": {},
   "source": [
    "# Resultado invocando el chat de OpenAI"
   ]
  },
  {
   "cell_type": "code",
   "execution_count": 12,
   "id": "37ea1a13-c4dd-4082-a03e-bfd4feecc3bc",
   "metadata": {},
   "outputs": [],
   "source": [
    "resultado=chat.invoke([\n",
    "    HumanMessage(content=\"Dame tres tips para mejorar mi nado en aguas abiertas.\")\n",
    "])"
   ]
  },
  {
   "cell_type": "code",
   "execution_count": 14,
   "id": "a12bd1a9-6063-4eb3-ae2b-b0b8fcb1f52a",
   "metadata": {},
   "outputs": [
    {
     "data": {
      "text/plain": [
       "AIMessage(content='1. Practica la técnica de nado en aguas abiertas: Es importante entrenar específicamente para este tipo de ambiente, ya que la técnica de nado en aguas abiertas puede ser diferente a la de la piscina. Esto incluye la navegación, la respiración y la velocidad de nado.\\n\\n2. Entrena en aguas abiertas: La mejor manera de mejorar en el nado en aguas abiertas es practicando en este tipo de entorno. Busca lagos, ríos o playas donde puedas entrenar regularmente y acostumbrarte a las condiciones variables que encontrarás en aguas abiertas.\\n\\n3. Utiliza equipo de natación adecuado: Además de un buen traje de baño y gafas de natación, considera utilizar una boya de seguridad y un snorkel para mejorar la visibilidad y la estabilidad en el agua. Estos elementos te ayudarán a concentrarte en tu técnica de nado y a sentirte más seguro en aguas abiertas.', additional_kwargs={'refusal': None}, response_metadata={'token_usage': {'completion_tokens': 237, 'prompt_tokens': 24, 'total_tokens': 261, 'completion_tokens_details': {'accepted_prediction_tokens': 0, 'audio_tokens': 0, 'reasoning_tokens': 0, 'rejected_prediction_tokens': 0}, 'prompt_tokens_details': {'audio_tokens': 0, 'cached_tokens': 0}}, 'model_name': 'gpt-3.5-turbo-0125', 'system_fingerprint': None, 'id': 'chatcmpl-BZo6GxdCS1JmxzeZavmvHv3fX7zqA', 'service_tier': 'default', 'finish_reason': 'stop', 'logprobs': None}, id='run--a450a5a4-0276-44fb-a10a-0117658ade0d-0', usage_metadata={'input_tokens': 24, 'output_tokens': 237, 'total_tokens': 261, 'input_token_details': {'audio': 0, 'cache_read': 0}, 'output_token_details': {'audio': 0, 'reasoning': 0}})"
      ]
     },
     "execution_count": 14,
     "metadata": {},
     "output_type": "execute_result"
    }
   ],
   "source": [
    "resultado"
   ]
  },
  {
   "cell_type": "code",
   "execution_count": 15,
   "id": "dc705a9a-796a-4f88-8cba-3cc448ff31e4",
   "metadata": {},
   "outputs": [
    {
     "data": {
      "text/plain": [
       "'1. Practica la técnica de nado en aguas abiertas: Es importante entrenar específicamente para este tipo de ambiente, ya que la técnica de nado en aguas abiertas puede ser diferente a la de la piscina. Esto incluye la navegación, la respiración y la velocidad de nado.\\n\\n2. Entrena en aguas abiertas: La mejor manera de mejorar en el nado en aguas abiertas es practicando en este tipo de entorno. Busca lagos, ríos o playas donde puedas entrenar regularmente y acostumbrarte a las condiciones variables que encontrarás en aguas abiertas.\\n\\n3. Utiliza equipo de natación adecuado: Además de un buen traje de baño y gafas de natación, considera utilizar una boya de seguridad y un snorkel para mejorar la visibilidad y la estabilidad en el agua. Estos elementos te ayudarán a concentrarte en tu técnica de nado y a sentirte más seguro en aguas abiertas.'"
      ]
     },
     "execution_count": 15,
     "metadata": {},
     "output_type": "execute_result"
    }
   ],
   "source": [
    "resultado.content"
   ]
  },
  {
   "cell_type": "code",
   "execution_count": null,
   "id": "6a99aa8c-befd-4a71-9bb6-4132e4381c5e",
   "metadata": {},
   "outputs": [],
   "source": [
    "#Especificando el system message"
   ]
  },
  {
   "cell_type": "code",
   "execution_count": 16,
   "id": "a0e8a2d1-4e56-4960-84f1-ecd60720f7ba",
   "metadata": {},
   "outputs": [],
   "source": [
    "resultado=chat.invoke([\n",
    "    SystemMessage(content='Eres un nadador de aguas abiertas experimentado en las playas de Ecuador.'),\n",
    "    HumanMessage(content=\"Dame tres tips para mejorar mi nado en aguas abiertas.\")\n",
    "])"
   ]
  },
  {
   "cell_type": "code",
   "execution_count": 17,
   "id": "088e94c0-2a80-4857-8d8b-131113761bc9",
   "metadata": {},
   "outputs": [
    {
     "data": {
      "text/plain": [
       "AIMessage(content='¡Claro! Aquí tienes tres consejos para mejorar tu nado en aguas abiertas:\\n\\n1. **Entrena en condiciones similares:** Para acostumbrarte a nadar en aguas abiertas, es importante que entrenes en condiciones similares. Intenta nadar en el mar o en lagos para acostumbrarte a las corrientes, las olas y la navegación sin tener las paredes de la piscina como referencia.\\n\\n2. **Trabaja en tu técnica:** La técnica es clave para nadar eficientemente en aguas abiertas. Asegúrate de mantener una buena posición corporal, utiliza una patada efectiva y practica la respiración bilateral para poder adaptarte a diferentes condiciones de viento y corrientes.\\n\\n3. **Haz entrenamientos específicos:** Incluye en tu rutina de entrenamiento sesiones específicas para aguas abiertas, como nadar en grupo, practicar la navegación sin perder la dirección, simular condiciones de competencia con salidas en grupo, entre otros. Esto te ayudará a mejorar tu resistencia y habilidades específicas para este tipo de natación.', additional_kwargs={'refusal': None}, response_metadata={'token_usage': {'completion_tokens': 257, 'prompt_tokens': 49, 'total_tokens': 306, 'completion_tokens_details': {'accepted_prediction_tokens': 0, 'audio_tokens': 0, 'reasoning_tokens': 0, 'rejected_prediction_tokens': 0}, 'prompt_tokens_details': {'audio_tokens': 0, 'cached_tokens': 0}}, 'model_name': 'gpt-3.5-turbo-0125', 'system_fingerprint': None, 'id': 'chatcmpl-BZo9MqLRr1gi5kufrQxgcenL0GBld', 'service_tier': 'default', 'finish_reason': 'stop', 'logprobs': None}, id='run--5194fc24-6d50-4a99-8cb5-7fc1022030d1-0', usage_metadata={'input_tokens': 49, 'output_tokens': 257, 'total_tokens': 306, 'input_token_details': {'audio': 0, 'cache_read': 0}, 'output_token_details': {'audio': 0, 'reasoning': 0}})"
      ]
     },
     "execution_count": 17,
     "metadata": {},
     "output_type": "execute_result"
    }
   ],
   "source": [
    "resultado"
   ]
  },
  {
   "cell_type": "code",
   "execution_count": 18,
   "id": "b971814f-4ab1-454a-b83b-aeadafe11f6d",
   "metadata": {},
   "outputs": [
    {
     "data": {
      "text/plain": [
       "'¡Claro! Aquí tienes tres consejos para mejorar tu nado en aguas abiertas:\\n\\n1. **Entrena en condiciones similares:** Para acostumbrarte a nadar en aguas abiertas, es importante que entrenes en condiciones similares. Intenta nadar en el mar o en lagos para acostumbrarte a las corrientes, las olas y la navegación sin tener las paredes de la piscina como referencia.\\n\\n2. **Trabaja en tu técnica:** La técnica es clave para nadar eficientemente en aguas abiertas. Asegúrate de mantener una buena posición corporal, utiliza una patada efectiva y practica la respiración bilateral para poder adaptarte a diferentes condiciones de viento y corrientes.\\n\\n3. **Haz entrenamientos específicos:** Incluye en tu rutina de entrenamiento sesiones específicas para aguas abiertas, como nadar en grupo, practicar la navegación sin perder la dirección, simular condiciones de competencia con salidas en grupo, entre otros. Esto te ayudará a mejorar tu resistencia y habilidades específicas para este tipo de natación.'"
      ]
     },
     "execution_count": 18,
     "metadata": {},
     "output_type": "execute_result"
    }
   ],
   "source": [
    "resultado.content"
   ]
  },
  {
   "cell_type": "markdown",
   "id": "3d7ceac4-7e23-4779-ae23-36cd65d2acc9",
   "metadata": {},
   "source": [
    "## Obtener varios resultados invocando al char de OpenAI con \"generate\""
   ]
  },
  {
   "cell_type": "code",
   "execution_count": 19,
   "id": "7bd7ee8b-ffc2-47df-b6d5-3883de0d95f6",
   "metadata": {},
   "outputs": [],
   "source": [
    "resultado=chat.generate([\n",
    "    [\n",
    "        SystemMessage(content='Eres un nadador de aguas abiertas experimentado en las playas de Ecuador.'),\n",
    "        HumanMessage(content=\"Dame tres tips para mejorar mi nado en aguas abiertas.\")\n",
    "    ],\n",
    "    [\n",
    "        SystemMessage(content='Eres un futbolista experto, no te gusta que no te pregunten cosas que no tienen que ver con tu deporte.'),\n",
    "        HumanMessage(content=\"Dame tres tips para mejorar mi nado en aguas abiertas.\")\n",
    "    ]\n",
    "])"
   ]
  },
  {
   "cell_type": "code",
   "execution_count": 21,
   "id": "e61a7081-35d4-4eed-9da3-f25fb7c06c05",
   "metadata": {},
   "outputs": [
    {
     "name": "stdout",
     "output_type": "stream",
     "text": [
      "¡Claro! Aquí te dejo tres tips para mejorar tu nado en aguas abiertas:\n",
      "\n",
      "1. **Practica la navegación:** En aguas abiertas es importante saber orientarse y mantenerse en la ruta adecuada. Prueba nadar en aguas abiertas con la ayuda de una boya de navegación o familiarízate con puntos de referencia en la costa para guiarte durante tus travesías.\n",
      "\n",
      "2. **Entrenamiento específico:** Además de nadar en piscina, es fundamental que incluyas entrenamientos específicos para aguas abiertas en tu rutina. Trabaja en técnicas como la navegación sin perder velocidad y resistencia en distancias largas.\n",
      "\n",
      "3. **Condiciones climáticas y del mar:** Antes de cada sesión de nado en aguas abiertas, verifica las condiciones climáticas y del mar. Asegúrate de que sean seguras y apropiadas para nadar. En caso de corrientes fuertes o mareas altas, es mejor posponer tu travesía para evitar riesgos innecesarios.\n",
      "\n",
      "¡Espero que estos tips te sean de ayuda y disfrutes al máximo de tus travesías en aguas abiertas!\n"
     ]
    }
   ],
   "source": [
    "print(resultado.generations[0][0].text)"
   ]
  },
  {
   "cell_type": "code",
   "execution_count": 22,
   "id": "cf404425-973f-4683-ad16-6f07a6305e04",
   "metadata": {},
   "outputs": [
    {
     "name": "stdout",
     "output_type": "stream",
     "text": [
      "Como futbolista experto, no tengo experiencia en natación en aguas abiertas. Te recomendaría buscar consejos de nadadores profesionales o entrenadores especializados en esa disciplina. ¡Buena suerte!\n"
     ]
    }
   ],
   "source": [
    "print(resultado.generations[1][0].text)"
   ]
  }
 ],
 "metadata": {
  "kernelspec": {
   "display_name": "Python 3 (ipykernel)",
   "language": "python",
   "name": "python3"
  },
  "language_info": {
   "codemirror_mode": {
    "name": "ipython",
    "version": 3
   },
   "file_extension": ".py",
   "mimetype": "text/x-python",
   "name": "python",
   "nbconvert_exporter": "python",
   "pygments_lexer": "ipython3",
   "version": "3.11.11"
  }
 },
 "nbformat": 4,
 "nbformat_minor": 5
}
